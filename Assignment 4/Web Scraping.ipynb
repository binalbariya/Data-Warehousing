{
 "cells": [
  {
   "cell_type": "markdown",
   "metadata": {},
   "source": [
    "# Github Link : https://github.com/binalbariya/Data-Warehousing/blob/main/Assignment%204/Web%20Scraping.ipynb"
   ]
  },
  {
   "cell_type": "markdown",
   "metadata": {},
   "source": [
    "# Here i will scrape data from an Ecommerce website and fetch name,price,rating and its about section"
   ]
  },
  {
   "cell_type": "code",
   "execution_count": 1,
   "metadata": {},
   "outputs": [],
   "source": [
    "#import necessary libraries\n",
    "import requests\n",
    "from bs4 import BeautifulSoup\n",
    "import pandas as pd"
   ]
  },
  {
   "cell_type": "code",
   "execution_count": 2,
   "metadata": {},
   "outputs": [],
   "source": [
    "url = \"https://www.thewhiskyexchange.com\""
   ]
  },
  {
   "cell_type": "code",
   "execution_count": 3,
   "metadata": {},
   "outputs": [],
   "source": [
    "#we will send a user-agent on every HTTP request, because if you make GET request using requests then \n",
    "#by default the user-agent is Python which might get blocked.\n",
    "\n",
    "headers = {'User-Agent': 'Mozilla/5.0 (Windows NT 10.0; Win64; x64) AppleWebKit/537.36 (KHTML, like Gecko) Chrome/89.0.4389.82 Safari/537.36'}\n"
   ]
  },
  {
   "cell_type": "code",
   "execution_count": 4,
   "metadata": {},
   "outputs": [],
   "source": [
    "productlinks = []\n",
    "t={}\n",
    "data=[]\n",
    "c=0"
   ]
  },
  {
   "cell_type": "markdown",
   "metadata": {},
   "source": [
    "# Firstly inspect the webpage using chrome devtools"
   ]
  },
  {
   "cell_type": "code",
   "execution_count": 5,
   "metadata": {},
   "outputs": [
    {
     "name": "stdout",
     "output_type": "stream",
     "text": [
      "[<li class=\"product-grid__item\"><a class=\"product-card\" href=\"/p/37325/suntory-torys-classic\" onclick=\"_gaq.push(['_trackEvent', 'Products-GridView', 'click', '37325 : Suntory Torys Classic'])\" title=\"Suntory Torys Classic\"><div class=\"product-card__image-container\"><img alt=\"Suntory Torys Classic\" class=\"product-card__image lazy\" data-original=\"https://img.thewhiskyexchange.com/480/japan_sun20.jpg\" src=\"https://img.thewhiskyexchange.com/ph.png\"/></div><div class=\"product-card__content\"><p class=\"product-card__name\"> Suntory Torys Classic </p><p class=\"product-card__meta\"> 70cl / 37% </p></div><div class=\"product-card__data\"><p class=\"product-card__price\"> £30.45 </p><p class=\"product-card__unit-price\"> (£43.50 per litre) </p></div></a></li>, <li class=\"product-grid__item\"><a class=\"product-card\" href=\"/p/45577/nikka-days\" onclick=\"_gaq.push(['_trackEvent', 'Products-GridView', 'click', '45577 : Nikka Days'])\" title=\"Nikka Days\"><div class=\"product-card__image-container\"><img alt=\"Nikka Days\" class=\"product-card__image lazy\" data-original=\"https://img.thewhiskyexchange.com/480/japan_nik47.jpg\" src=\"https://img.thewhiskyexchange.com/ph.png\"/><div class=\"product-extras product-extras--grid\"><div class=\"product-extras-flash product-extras-flash--purple\"><p class=\"product-extras-flash__content\"> Save<br/>£7 </p></div></div></div><div class=\"product-card__content\"><p class=\"product-card__name\"> Nikka Days </p><p class=\"product-card__meta\"> 70cl / 40% </p></div><div class=\"product-card__data\"><p class=\"product-card__price\"> £31.95 </p><p class=\"product-card__unit-price\"> (£45.64 per litre) </p></div></a></li>, <li class=\"product-grid__item\"><a class=\"product-card\" href=\"/p/36362/suntory-toki\" onclick=\"_gaq.push(['_trackEvent', 'Products-GridView', 'click', '36362 : Suntory Toki'])\" title=\"Suntory Toki\"><div class=\"product-card__image-container\"><img alt=\"Suntory Toki\" class=\"product-card__image lazy\" data-original=\"https://img.thewhiskyexchange.com/480/japan_sun15.jpg\" src=\"https://img.thewhiskyexchange.com/ph.png\"/></div><div class=\"product-card__content\"><p class=\"product-card__name\"> Suntory Toki </p><p class=\"product-card__meta\"> 70cl / 43% </p></div><div class=\"product-card__data\"><p class=\"product-card__price\"> £31.95 </p><p class=\"product-card__unit-price\"> (£45.64 per litre) </p></div></a></li>, <li class=\"product-grid__item\"><a class=\"product-card\" href=\"/p/16917/akashi-blended-whisky\" onclick=\"_gaq.push(['_trackEvent', 'Products-GridView', 'click', '16917 : Akashi Blended Whisky'])\" title=\"Akashi Blended Whisky\"><div class=\"product-card__image-container\"><img alt=\"Akashi Blended Whisky\" class=\"product-card__image lazy\" data-original=\"https://img.thewhiskyexchange.com/480/japan_aka1.jpg\" src=\"https://img.thewhiskyexchange.com/ph.png\"/></div><div class=\"product-card__content\"><p class=\"product-card__name\"> Akashi Blended Whisky </p><p class=\"product-card__meta\"> 50cl / 40% </p></div><div class=\"product-card__data\"><p class=\"product-card__price\"> £32.75 </p><p class=\"product-card__unit-price\"> (£65.50 per litre) </p></div></a></li>, <li class=\"product-grid__item\"><a class=\"product-card\" href=\"/p/49001/tokinoka-white-blended-whisky\" onclick=\"_gaq.push(['_trackEvent', 'Products-GridView', 'click', '49001 : Tokinoka White Blended Whisky'])\" title=\"Tokinoka White Blended Whisky\"><div class=\"product-card__image-container\"><img alt=\"Tokinoka White Blended Whisky\" class=\"product-card__image lazy\" data-original=\"https://img.thewhiskyexchange.com/480/japan_tok2.jpg\" src=\"https://img.thewhiskyexchange.com/ph.png\"/></div><div class=\"product-card__content\"><p class=\"product-card__name\"> Tokinoka White Blended Whisky </p><p class=\"product-card__meta\"> 50cl / 40% </p></div><div class=\"product-card__data\"><p class=\"product-card__price\"> £32.95 </p><p class=\"product-card__unit-price\"> (£65.90 per litre) </p></div></a></li>, <li class=\"product-grid__item\"><a class=\"product-card\" href=\"/p/49821/hatozaki-blended-japanese-whisky\" onclick=\"_gaq.push(['_trackEvent', 'Products-GridView', 'click', '49821 : Hatozaki Blended Japanese Whisky'])\" title=\"Hatozaki Blended Japanese Whisky\"><div class=\"product-card__image-container\"><img alt=\"Hatozaki Blended Japanese Whisky\" class=\"product-card__image lazy\" data-original=\"https://img.thewhiskyexchange.com/480/japan_hat1.jpg\" src=\"https://img.thewhiskyexchange.com/ph.png\"/></div><div class=\"product-card__content\"><p class=\"product-card__name\"> Hatozaki Blended Japanese Whisky </p><p class=\"product-card__meta\"> 70cl / 40% </p></div><div class=\"product-card__data\"><p class=\"product-card__price\"> £33.95 </p><p class=\"product-card__unit-price\"> (£48.50 per litre) </p></div></a></li>, <li class=\"product-grid__item\"><a class=\"product-card\" href=\"/p/57521/suntory-toki-glass-pack\" onclick=\"_gaq.push(['_trackEvent', 'Products-GridView', 'click', '57521 : Suntory Toki / Glass Pack'])\" title=\" Suntory Toki Glass Pack\"><div class=\"product-card__image-container\"><img alt=\" Suntory TokiGlass Pack\" class=\"product-card__image lazy\" data-original=\"https://img.thewhiskyexchange.com/480/japan_sun34.jpg\" src=\"https://img.thewhiskyexchange.com/ph.png\"/></div><div class=\"product-card__content\"><p class=\"product-card__name\"> Suntory Toki<span class=\"product-card__name-secondary\">Glass Pack</span></p><p class=\"product-card__meta\"> 70cl / 43% </p></div><div class=\"product-card__data\"><p class=\"product-card__price\"> £34.95 </p><p class=\"product-card__unit-price\"> (£49.93 per litre) </p></div></a></li>, <li class=\"product-grid__item\"><a class=\"product-card\" href=\"/p/48272/mars-kasei-blended-whisky\" onclick=\"_gaq.push(['_trackEvent', 'Products-GridView', 'click', '48272 : Mars Kasei Blended Whisky'])\" title=\"Mars Kasei Blended Whisky\"><div class=\"product-card__image-container\"><img alt=\"Mars Kasei Blended Whisky\" class=\"product-card__image lazy\" data-original=\"https://img.thewhiskyexchange.com/480/japan_mar8.jpg\" src=\"https://img.thewhiskyexchange.com/ph.png\"/></div><div class=\"product-card__content\"><p class=\"product-card__name\"> Mars Kasei Blended Whisky </p><p class=\"product-card__meta\"> 70cl / 40% </p></div><div class=\"product-card__data\"><p class=\"product-card__price\"> £42.95 </p><p class=\"product-card__unit-price\"> (£61.36 per litre) </p></div></a></li>, <li class=\"product-grid__item\"><a class=\"product-card\" href=\"/p/2928/nikka-from-the-barrel\" onclick=\"_gaq.push(['_trackEvent', 'Products-GridView', 'click', '2928 : Nikka From the Barrel'])\" title=\"Nikka From the Barrel\"><div class=\"product-card__image-container\"><img alt=\"Nikka From the Barrel\" class=\"product-card__image lazy\" data-original=\"https://img.thewhiskyexchange.com/480/japan_nik10.jpg\" src=\"https://img.thewhiskyexchange.com/ph.png\"/></div><div class=\"product-card__content\"><p class=\"product-card__name\"> Nikka From the Barrel </p><p class=\"product-card__meta\"> 50cl / 51.4% </p></div><div class=\"product-card__data\"><p class=\"product-card__price\"> £42.95 </p><p class=\"product-card__unit-price\"> (£85.90 per litre) </p></div></a></li>, <li class=\"product-grid__item\"><a class=\"product-card\" href=\"/p/24587/togouchi-premium-blended-whisky\" onclick=\"_gaq.push(['_trackEvent', 'Products-GridView', 'click', '24587 : Togouchi Premium Blended Whisky'])\" title=\"Togouchi Premium Blended Whisky\"><div class=\"product-card__image-container\"><img alt=\"Togouchi Premium Blended Whisky\" class=\"product-card__image lazy\" data-original=\"https://img.thewhiskyexchange.com/480/japan_tog1.jpg\" src=\"https://img.thewhiskyexchange.com/ph.png\"/></div><div class=\"product-card__content\"><p class=\"product-card__name\"> Togouchi Premium Blended Whisky </p><p class=\"product-card__meta\"> 70cl / 40% </p></div><div class=\"product-card__data\"><p class=\"product-card__price\"> £44.95 </p><p class=\"product-card__unit-price\"> (£64.21 per litre) </p></div></a></li>, <li class=\"product-grid__item\"><a class=\"product-card\" href=\"/p/2935/nikka-pure-malt-red\" onclick=\"_gaq.push(['_trackEvent', 'Products-GridView', 'click', '2935 : Nikka Pure Malt Red'])\" title=\"Nikka Pure Malt Red\"><div class=\"product-card__image-container\"><img alt=\"Nikka Pure Malt Red\" class=\"product-card__image lazy\" data-original=\"https://img.thewhiskyexchange.com/480/japan_nik8.jpg\" src=\"https://img.thewhiskyexchange.com/ph.png\"/></div><div class=\"product-card__content\"><p class=\"product-card__name\"> Nikka Pure Malt Red </p><p class=\"product-card__meta\"> 50cl / 43% </p></div><div class=\"product-card__data\"><p class=\"product-card__price\"> £46.45 </p><p class=\"product-card__unit-price\"> (£92.90 per litre) </p></div></a></li>, <li class=\"product-grid__item\"><a class=\"product-card\" href=\"/p/49822/hatozaki-pure-malt-japanese-whisky\" onclick=\"_gaq.push(['_trackEvent', 'Products-GridView', 'click', '49822 : Hatozaki Pure Malt Japanese Whisky'])\" title=\"Hatozaki Pure Malt Japanese Whisky\"><div class=\"product-card__image-container\"><img alt=\"Hatozaki Pure Malt Japanese Whisky\" class=\"product-card__image lazy\" data-original=\"https://img.thewhiskyexchange.com/480/japan_hat2.jpg\" src=\"https://img.thewhiskyexchange.com/ph.png\"/></div><div class=\"product-card__content\"><p class=\"product-card__name\"> Hatozaki Pure Malt Japanese Whisky </p><p class=\"product-card__meta\"> 70cl / 46% </p></div><div class=\"product-card__data\"><p class=\"product-card__price\"> £47.45 </p><p class=\"product-card__unit-price\"> (£67.79 per litre) </p></div></a></li>, <li class=\"product-grid__item\"><a class=\"product-card\" href=\"/p/34970/tokinoka-black-blended-whisky\" onclick=\"_gaq.push(['_trackEvent', 'Products-GridView', 'click', '34970 : Tokinoka Black Blended Whisky'])\" title=\"Tokinoka Black Blended Whisky\"><div class=\"product-card__image-container\"><img alt=\"Tokinoka Black Blended Whisky\" class=\"product-card__image lazy\" data-original=\"https://img.thewhiskyexchange.com/480/japan_tok1.jpg\" src=\"https://img.thewhiskyexchange.com/ph.png\"/></div><div class=\"product-card__content\"><p class=\"product-card__name\"> Tokinoka Black Blended Whisky </p><p class=\"product-card__meta\"> 50cl / 50% </p></div><div class=\"product-card__data\"><p class=\"product-card__price\"> £47.95 </p><p class=\"product-card__unit-price\"> (£95.90 per litre) </p></div></a></li>, <li class=\"product-grid__item\"><a class=\"product-card\" href=\"/p/37317/suntory-chita-whisky\" onclick=\"_gaq.push(['_trackEvent', 'Products-GridView', 'click', '37317 : Suntory Chita Whisky'])\" title=\"Suntory Chita Whisky\"><div class=\"product-card__image-container\"><img alt=\"Suntory Chita Whisky\" class=\"product-card__image lazy\" data-original=\"https://img.thewhiskyexchange.com/480/japan_sun17.jpg\" src=\"https://img.thewhiskyexchange.com/ph.png\"/></div><div class=\"product-card__content\"><p class=\"product-card__name\"> Suntory Chita Whisky </p><p class=\"product-card__meta\"> 70cl / 43% </p></div><div class=\"product-card__data\"><p class=\"product-card__price\"> £49.95 </p><p class=\"product-card__unit-price\"> (£71.36 per litre) </p></div></a></li>, <li class=\"product-grid__item\"><a class=\"product-card\" href=\"/p/30377/super-nikka-rare-old\" onclick=\"_gaq.push(['_trackEvent', 'Products-GridView', 'click', '30377 : Super Nikka / Rare Old'])\" title=\" Super Nikka Rare Old\"><div class=\"product-card__image-container\"><img alt=\" Super NikkaRare Old\" class=\"product-card__image lazy\" data-original=\"https://img.thewhiskyexchange.com/480/japan_nik35.jpg\" src=\"https://img.thewhiskyexchange.com/ph.png\"/></div><div class=\"product-card__content\"><p class=\"product-card__name\"> Super Nikka<span class=\"product-card__name-secondary\">Rare Old</span></p><p class=\"product-card__meta\"> 70cl / 43% </p></div><div class=\"product-card__data\"><p class=\"product-card__price\"> £50.25 </p><p class=\"product-card__unit-price\"> (£71.79 per litre) </p></div></a></li>, <li class=\"product-grid__item\"><a class=\"product-card\" href=\"/p/23928/nikka-coffey-grain-whisky\" onclick=\"_gaq.push(['_trackEvent', 'Products-GridView', 'click', '23928 : Nikka Coffey Grain Whisky'])\" title=\"Nikka Coffey Grain Whisky\"><div class=\"product-card__image-container\"><img alt=\"Nikka Coffey Grain Whisky\" class=\"product-card__image lazy\" data-original=\"https://img.thewhiskyexchange.com/480/japan_nik24.jpg\" src=\"https://img.thewhiskyexchange.com/ph.png\"/><div class=\"product-extras product-extras--grid\"><div class=\"product-extras-banner\"><img alt=\"Available with Engraving\" class=\"product-extras-banner__image\" src=\"/media/rtwe/assets/application/images/widgets/engraving-sm.png\"/></div></div></div><div class=\"product-card__content\"><p class=\"product-card__name\"> Nikka Coffey Grain Whisky </p><p class=\"product-card__meta\"> 70cl / 45% </p></div><div class=\"product-card__data\"><p class=\"product-card__price\"> £54.95 </p><p class=\"product-card__unit-price\"> (£78.50 per litre) </p></div></a></li>, <li class=\"product-grid__item\"><a class=\"product-card\" href=\"/p/57245/enso-japanese-whisky\" onclick=\"_gaq.push(['_trackEvent', 'Products-GridView', 'click', '57245 : Enso Japanese Whisky'])\" title=\"Enso Japanese Whisky\"><div class=\"product-card__image-container\"><img alt=\"Enso Japanese Whisky\" class=\"product-card__image lazy\" data-original=\"https://img.thewhiskyexchange.com/480/japan_ens1.jpg\" src=\"https://img.thewhiskyexchange.com/ph.png\"/></div><div class=\"product-card__content\"><p class=\"product-card__name\"> Enso Japanese Whisky </p><p class=\"product-card__meta\"> 70cl / 40% </p></div><div class=\"product-card__data\"><p class=\"product-card__price\"> £55.95 </p><p class=\"product-card__unit-price\"> (£79.93 per litre) </p></div></a></li>, <li class=\"product-grid__item\"><a class=\"product-card\" href=\"/p/29679/mars-maltage-cosmo\" onclick=\"_gaq.push(['_trackEvent', 'Products-GridView', 'click', '29679 : Mars Maltage Cosmo'])\" title=\"Mars Maltage Cosmo\"><div class=\"product-card__image-container\"><img alt=\"Mars Maltage Cosmo\" class=\"product-card__image lazy\" data-original=\"https://img.thewhiskyexchange.com/480/japan_mar4.jpg\" src=\"https://img.thewhiskyexchange.com/ph.png\"/></div><div class=\"product-card__content\"><p class=\"product-card__name\"> Mars Maltage Cosmo </p><p class=\"product-card__meta\"> 70cl / 43% </p></div><div class=\"product-card__data\"><p class=\"product-card__price\"> £55.95 </p><p class=\"product-card__unit-price\"> (£79.93 per litre) </p></div></a></li>, <li class=\"product-grid__item\"><a class=\"product-card\" href=\"/p/24156/nikka-coffey-malt-whisky\" onclick=\"_gaq.push(['_trackEvent', 'Products-GridView', 'click', '24156 : Nikka Coffey Malt Whisky'])\" title=\"Nikka Coffey Malt Whisky\"><div class=\"product-card__image-container\"><img alt=\"Nikka Coffey Malt Whisky\" class=\"product-card__image lazy\" data-original=\"https://img.thewhiskyexchange.com/480/japan_nik25.jpg\" src=\"https://img.thewhiskyexchange.com/ph.png\"/></div><div class=\"product-card__content\"><p class=\"product-card__name\"> Nikka Coffey Malt Whisky </p><p class=\"product-card__meta\"> 70cl / 45% </p></div><div class=\"product-card__data\"><p class=\"product-card__price\"> £58.45 </p><p class=\"product-card__unit-price\"> (£83.50 per litre) </p></div></a></li>, <li class=\"product-grid__item\"><a class=\"product-card\" href=\"/p/33964/suntory-kakubin-yellow-label\" onclick=\"_gaq.push(['_trackEvent', 'Products-GridView', 'click', '33964 : Suntory Kakubin Yellow Label'])\" title=\"Suntory Kakubin Yellow Label\"><div class=\"product-card__image-container\"><img alt=\"Suntory Kakubin Yellow Label\" class=\"product-card__image lazy\" data-original=\"https://img.thewhiskyexchange.com/480/japan_sun13.jpg\" src=\"https://img.thewhiskyexchange.com/ph.png\"/></div><div class=\"product-card__content\"><p class=\"product-card__name\"> Suntory Kakubin Yellow Label </p><p class=\"product-card__meta\"> 70cl / 40% </p></div><div class=\"product-card__data\"><p class=\"product-card__price\"> £59.45 </p><p class=\"product-card__unit-price\"> (£84.93 per litre) </p></div></a></li>, <li class=\"product-grid__item\"><a class=\"product-card\" href=\"/p/56192/nikka-taketsuru-pure-malt-2020-release\" onclick=\"_gaq.push(['_trackEvent', 'Products-GridView', 'click', '56192 : Nikka Taketsuru Pure Malt / 2020 Release'])\" title=\" Nikka Taketsuru Pure Malt 2020 Release\"><div class=\"product-card__image-container\"><img alt=\" Nikka Taketsuru Pure Malt2020 Release\" class=\"product-card__image lazy\" data-original=\"https://img.thewhiskyexchange.com/480/japan_tak13.jpg\" src=\"https://img.thewhiskyexchange.com/ph.png\"/></div><div class=\"product-card__content\"><p class=\"product-card__name\"> Nikka Taketsuru Pure Malt<span class=\"product-card__name-secondary\">2020 Release</span></p><p class=\"product-card__meta\"> 70cl / 43% </p></div><div class=\"product-card__data\"><p class=\"product-card__price\"> £59.95 </p><p class=\"product-card__unit-price\"> (£85.64 per litre) </p></div></a></li>, <li class=\"product-grid__item\"><a class=\"product-card\" href=\"/p/23771/suntory-hakushu-distillers-reserve\" onclick=\"_gaq.push(['_trackEvent', 'Products-GridView', 'click', '23771 : Suntory Hakushu Distillers Reserve'])\" title=\"Suntory Hakushu Distiller's Reserve\"><div class=\"product-card__image-container\"><img alt=\"Suntory Hakushu Distiller's Reserve\" class=\"product-card__image lazy\" data-original=\"https://img.thewhiskyexchange.com/480/japan_hak16.jpg\" src=\"https://img.thewhiskyexchange.com/ph.png\"/><div class=\"product-extras product-extras--grid\"><div class=\"product-extras-banner\"><img alt=\"Available with Engraving\" class=\"product-extras-banner__image\" src=\"/media/rtwe/assets/application/images/widgets/engraving-sm.png\"/></div></div></div><div class=\"product-card__content\"><p class=\"product-card__name\"> Suntory Hakushu Distiller's Reserve </p><p class=\"product-card__meta\"> 70cl / 43% </p></div><div class=\"product-card__data\"><p class=\"product-card__price\"> £66.95 </p><p class=\"product-card__unit-price\"> (£95.64 per litre) </p></div></a></li>, <li class=\"product-grid__item\"><a class=\"product-card\" href=\"/p/48233/ichiros-malt-grain-japanese-whisky\" onclick=\"_gaq.push(['_trackEvent', 'Products-GridView', 'click', '48233 : Ichiros Malt &amp; Grain Japanese Whisky'])\" title=\"Ichiro's Malt &amp; Grain Japanese Whisky\"><div class=\"product-card__image-container\"><img alt=\"Ichiro's Malt &amp; Grain Japanese Whisky\" class=\"product-card__image lazy\" data-original=\"https://img.thewhiskyexchange.com/480/japan_ich13.jpg\" src=\"https://img.thewhiskyexchange.com/ph.png\"/></div><div class=\"product-card__content\"><p class=\"product-card__name\"> Ichiro's Malt &amp; Grain Japanese Whisky </p><p class=\"product-card__meta\"> 70cl / 46.5% </p></div><div class=\"product-card__data\"><p class=\"product-card__price\"> £69.95 </p><p class=\"product-card__unit-price\"> (£99.93 per litre) </p></div></a></li>, <li class=\"product-grid__item\"><a class=\"product-card\" href=\"/p/31531/akashi-single-malt-whisky\" onclick=\"_gaq.push(['_trackEvent', 'Products-GridView', 'click', '31531 : Akashi Single Malt Whisky'])\" title=\"Akashi Single Malt Whisky\"><div class=\"product-card__image-container\"><img alt=\"Akashi Single Malt Whisky\" class=\"product-card__image lazy\" data-original=\"https://img.thewhiskyexchange.com/480/japan_aka2.jpg\" src=\"https://img.thewhiskyexchange.com/ph.png\"/></div><div class=\"product-card__content\"><p class=\"product-card__name\"> Akashi Single Malt Whisky </p><p class=\"product-card__meta\"> 50cl / 46% </p></div><div class=\"product-card__data\"><p class=\"product-card__price\"> £73.59 </p><p class=\"product-card__unit-price\"> (£147.18 per litre) </p></div></a></li>]\n"
     ]
    }
   ],
   "source": [
    "# We need to make an HTTP call first. \n",
    "#Then we will extract the li element using BeautifulSoup.\n",
    "k = requests.get('https://www.thewhiskyexchange.com/c/35/japanese-whisky').text\n",
    "soup=BeautifulSoup(k,'html.parser')\n",
    "productlist = soup.find_all(\"li\",{\"class\":\"product-grid__item\"})\n",
    "print(productlist)"
   ]
  },
  {
   "cell_type": "markdown",
   "metadata": {},
   "source": [
    "# Next, we are getting the HTML for the items on this page. \n",
    "# inside each of these lists there is a link to the individual product page. We will scrape all those links from the productlist."
   ]
  },
  {
   "cell_type": "code",
   "execution_count": 7,
   "metadata": {},
   "outputs": [],
   "source": [
    "productlinks = []\n",
    "for product in productlist:\n",
    "        link = product.find(\"a\",{\"class\":\"product-card\"}).get('href')                 \n",
    "        productlinks.append(url + link)"
   ]
  },
  {
   "cell_type": "code",
   "execution_count": 13,
   "metadata": {},
   "outputs": [],
   "source": [
    "#To do so we will introduce a for loop before making the HTTP call.\n",
    "productlinks = []\n",
    "for x in range(1,6):\n",
    "    \n",
    "    \n",
    "    k = requests.get('https://www.thewhiskyexchange.com/c/35/japanese-whisky?pg={}&psize=24&sort=pasc'.format(x)).text  \n",
    "    soup=BeautifulSoup(k,'html.parser')  \n",
    "    productlist = soup.find_all(\"li\",{\"class\":\"product-grid__item\"})\n",
    "\n",
    "    for product in productlist:\n",
    "        link = product.find(\"a\",{\"class\":\"product-card\"}).get('href')\n",
    "        productlinks.append(url + link)"
   ]
  },
  {
   "cell_type": "code",
   "execution_count": 14,
   "metadata": {},
   "outputs": [
    {
     "name": "stdout",
     "output_type": "stream",
     "text": [
      "['https://www.thewhiskyexchange.com/p/37325/suntory-torys-classic', 'https://www.thewhiskyexchange.com/p/45577/nikka-days', 'https://www.thewhiskyexchange.com/p/36362/suntory-toki', 'https://www.thewhiskyexchange.com/p/16917/akashi-blended-whisky', 'https://www.thewhiskyexchange.com/p/49001/tokinoka-white-blended-whisky', 'https://www.thewhiskyexchange.com/p/49821/hatozaki-blended-japanese-whisky', 'https://www.thewhiskyexchange.com/p/57521/suntory-toki-glass-pack', 'https://www.thewhiskyexchange.com/p/48272/mars-kasei-blended-whisky', 'https://www.thewhiskyexchange.com/p/2928/nikka-from-the-barrel', 'https://www.thewhiskyexchange.com/p/24587/togouchi-premium-blended-whisky', 'https://www.thewhiskyexchange.com/p/2935/nikka-pure-malt-red', 'https://www.thewhiskyexchange.com/p/49822/hatozaki-pure-malt-japanese-whisky', 'https://www.thewhiskyexchange.com/p/34970/tokinoka-black-blended-whisky', 'https://www.thewhiskyexchange.com/p/37317/suntory-chita-whisky', 'https://www.thewhiskyexchange.com/p/30377/super-nikka-rare-old', 'https://www.thewhiskyexchange.com/p/23928/nikka-coffey-grain-whisky', 'https://www.thewhiskyexchange.com/p/57245/enso-japanese-whisky', 'https://www.thewhiskyexchange.com/p/29679/mars-maltage-cosmo', 'https://www.thewhiskyexchange.com/p/24156/nikka-coffey-malt-whisky', 'https://www.thewhiskyexchange.com/p/33964/suntory-kakubin-yellow-label', 'https://www.thewhiskyexchange.com/p/56192/nikka-taketsuru-pure-malt-2020-release', 'https://www.thewhiskyexchange.com/p/23771/suntory-hakushu-distillers-reserve', 'https://www.thewhiskyexchange.com/p/48233/ichiros-malt-grain-japanese-whisky', 'https://www.thewhiskyexchange.com/p/31531/akashi-single-malt-whisky', 'https://www.thewhiskyexchange.com/p/32762/nikka-miyagikyo-single-malt', 'https://www.thewhiskyexchange.com/p/39376/yamazakura-963-8-year-old', 'https://www.thewhiskyexchange.com/p/28520/togouchi-whisky-12-year-old', 'https://www.thewhiskyexchange.com/p/45366/kaiyo-mizunara-oak', 'https://www.thewhiskyexchange.com/p/57988/mars-cosmo-wine-cask-finish', 'https://www.thewhiskyexchange.com/p/52590/kaiyo-peated-mizunara-oak', 'https://www.thewhiskyexchange.com/p/46187/ichiros-malt-wine-wood-reserve', 'https://www.thewhiskyexchange.com/p/56182/nikka-tailored', 'https://www.thewhiskyexchange.com/p/45367/kaiyo-mizunara-oak-cask-strength', 'https://www.thewhiskyexchange.com/p/47669/ichiros-malt-double-distilleries-465', 'https://www.thewhiskyexchange.com/p/46186/ichiros-malt-mwr-mizunara-wood-reserve', 'https://www.thewhiskyexchange.com/p/2932/nikka-pure-malt-white', 'https://www.thewhiskyexchange.com/p/28580/the-nikka-12-year-old', 'https://www.thewhiskyexchange.com/p/57962/mars-komagatake-ltd-edition-bot2020', 'https://www.thewhiskyexchange.com/p/2940/suntory-yamazaki-12-year-old', 'https://www.thewhiskyexchange.com/p/34461/akashi-5-year-old-sherry-cask-half-litre', 'https://www.thewhiskyexchange.com/p/59214/nikka-coffey-malt-whisky-show-package-1-ticket', 'https://www.thewhiskyexchange.com/p/40055/togouchi-15-year-old', 'https://www.thewhiskyexchange.com/p/2922/suntory-hakushu-12-year-old', 'https://www.thewhiskyexchange.com/p/56341/ichiros-malt-grain-world-blended-whisky-2020-blue-label', 'https://www.thewhiskyexchange.com/p/59215/nikka-coffey-malt-whisky-show-package-2-tickets', 'https://www.thewhiskyexchange.com/p/51084/ichiros-malt-grain-world-blended-whisky-2018-limited-edition', 'https://www.thewhiskyexchange.com/p/47486/nikka-yoichi-bourbon-wood-finish', 'https://www.thewhiskyexchange.com/p/10132/suntory-hakushu-10-year-old', 'https://www.thewhiskyexchange.com/p/2943/suntory-yamazaki-10-year-old-bot2000s', 'https://www.thewhiskyexchange.com/p/2939/nikka-taketsuru-17-year-old', 'https://www.thewhiskyexchange.com/p/2924/nikka-miyagikyo-10-year-old', 'https://www.thewhiskyexchange.com/p/20331/suntory-hibiki-12-year-old-half-litre', 'https://www.thewhiskyexchange.com/p/39072/chichibu-the-peated-2012-bot2016', 'https://www.thewhiskyexchange.com/p/33515/chichibu-on-the-way-bot2015-ichiros-malt', 'https://www.thewhiskyexchange.com/p/2944/nikka-yoichi-10-year-old', 'https://www.thewhiskyexchange.com/p/2925/nikka-miyagikyo-12-year-old', 'https://www.thewhiskyexchange.com/p/2923/suntory-hibiki-17-year-old', 'https://www.thewhiskyexchange.com/p/8917/suntory-hakushu-18-year-old', 'https://www.thewhiskyexchange.com/p/9847/suntory-hibiki-12-year-old', 'https://www.thewhiskyexchange.com/p/2945/nikka-yoichi-12-year-old', 'https://www.thewhiskyexchange.com/p/2941/suntory-yamazaki-18-year-old', 'https://www.thewhiskyexchange.com/p/2926/nikka-miyagikyo-15-year-old', 'https://www.thewhiskyexchange.com/p/10134/suntory-hibiki-21-year-old', 'https://www.thewhiskyexchange.com/p/42840/nikka-taketsuru-21-year-old', 'https://www.thewhiskyexchange.com/p/2946/nikka-yoichi-15-year-old', 'https://www.thewhiskyexchange.com/p/26273/nikka-taketsuru-21-year-old-80th-anniversary', 'https://www.thewhiskyexchange.com/p/34928/yamazaki-bourbon-barrel', 'https://www.thewhiskyexchange.com/p/12868/suntory-yamazaki-puncheon-bot2011', 'https://www.thewhiskyexchange.com/p/55785/ichiros-malt-grain-japanese-blended-whisky-2020', 'https://www.thewhiskyexchange.com/p/51085/ichiros-malt-grain-japanese-blended-whisky-2019', 'https://www.thewhiskyexchange.com/p/34355/hanyu-2000-cask-359-no-1-10th-anniversary', 'https://www.thewhiskyexchange.com/p/32591/hanyu-2000-final-vintage-15-year-old-ichiros-malt', 'https://www.thewhiskyexchange.com/p/18099/karuizawa-spirit-of-asama-48', 'https://www.thewhiskyexchange.com/p/41686/chichibu-2013-sherry-oloroso-cask-velier-70th-anniversary', 'https://www.thewhiskyexchange.com/p/41893/smws-1164-yoichi-1988-13-year-old', 'https://www.thewhiskyexchange.com/p/18100/karuizawa-spirit-of-asama-55', 'https://www.thewhiskyexchange.com/p/34679/hanyu-2000-cask-362-twe-bottling', 'https://www.thewhiskyexchange.com/p/45906/chichibu-2010-cask-1000', 'https://www.thewhiskyexchange.com/p/56222/nikka-yoichi-1987-23-year-old-cask-112814-lmdw', 'https://www.thewhiskyexchange.com/p/56017/nikka-yoichi-1987-18-year-old-cask-254816', 'https://www.thewhiskyexchange.com/p/22707/nikka-taketsuru-25-year-old-pure-malt', 'https://www.thewhiskyexchange.com/p/10128/suntory-hakushu-25-year-old', 'https://www.thewhiskyexchange.com/p/51198/nikka-miyagikyo-50th-anniversary-limited-edition-2019', 'https://www.thewhiskyexchange.com/p/56221/suntory-yamazaki-mizunara-bot2011', 'https://www.thewhiskyexchange.com/p/51199/nikka-yoichi-50th-anniversary-limited-edition-2019', 'https://www.thewhiskyexchange.com/p/40791/suntory-yamazaki-mizunara-18-year-old-2017-edition', 'https://www.thewhiskyexchange.com/p/18547/smws-1161-yoichi-1986-16-year-old', 'https://www.thewhiskyexchange.com/p/28566/karuizawa-1980-34-year-old-cask-6476', 'https://www.thewhiskyexchange.com/p/28243/karuizawa-1984-sherry-cask-3657', 'https://www.thewhiskyexchange.com/p/8920/suntory-yamazaki-25-year-old-sherry-cask', 'https://www.thewhiskyexchange.com/p/28575/karuizawa-1984-28-year-old-cocktail-series', 'https://www.thewhiskyexchange.com/p/21446/karuizawa-1984-bot2013-sherry-cask-3663', 'https://www.thewhiskyexchange.com/p/28568/karuizawa-1981-33-year-old-cask-136', 'https://www.thewhiskyexchange.com/p/28565/karuizawa-1979-35-year-old-cask-8187', 'https://www.thewhiskyexchange.com/p/26182/karuizawa-1983-bot2014-sherry-cask', 'https://www.thewhiskyexchange.com/p/30004/karuizawa-1980-bot2015', 'https://www.thewhiskyexchange.com/p/24281/hanyu-the-joker-colour-label', 'https://www.thewhiskyexchange.com/p/24250/karuizawa-1984-29-years-old-sherry-cask-3662', 'https://www.thewhiskyexchange.com/p/21448/karuizawa-30-year-old-bourbon-cask-8606', 'https://www.thewhiskyexchange.com/p/17994/karuizawa-1984-first-fill-sherry-cask-4021', 'https://www.thewhiskyexchange.com/p/26136/karuizawa-1981-bot2014-sherry-cask', 'https://www.thewhiskyexchange.com/p/52682/karuizawa-31-year-old-sapphire-geisha', 'https://www.thewhiskyexchange.com/p/26134/karuizawa-29-year-old-bourbon-cask-8897', 'https://www.thewhiskyexchange.com/p/52683/karuizawa-36-year-old-sapphire-geisha', 'https://www.thewhiskyexchange.com/p/42058/karuizawa-35-year-old-bourbon-cask-8518-emerald-geisha', 'https://www.thewhiskyexchange.com/p/56853/karuizawa-1967-42-year-old-cask-6426-twe-10th-anniversary', 'https://www.thewhiskyexchange.com/p/45844/karuizawa-38-year-old-pearl-geisha', 'https://www.thewhiskyexchange.com/p/26135/karuizawa-30-year-old-sherry-cask-5347', 'https://www.thewhiskyexchange.com/p/10768/karuizawa-1967-42-year-old-cask-6426-twe-10th-anniversary', 'https://www.thewhiskyexchange.com/p/5795/hanyu-1990-queen-of-hearts-cask-9102', 'https://www.thewhiskyexchange.com/p/45845/karuizawa-37-year-old-pearl-geisha', 'https://www.thewhiskyexchange.com/p/25880/hanyu-1985-the-joker-monochrome-label']\n"
     ]
    }
   ],
   "source": [
    "print(productlinks)"
   ]
  },
  {
   "cell_type": "markdown",
   "metadata": {},
   "source": [
    "# The Name is under an h1 tag, the about text is under the div tag, price is under a p tag, and rating is under the span tag. Now, let's extract them."
   ]
  },
  {
   "cell_type": "code",
   "execution_count": 15,
   "metadata": {},
   "outputs": [],
   "source": [
    "data=[]\n",
    "for link in productlinks:\n",
    "    f = requests.get(link,headers=headers).text\n",
    "    hun=BeautifulSoup(f,'html.parser')\n",
    "\n",
    "    try:\n",
    "        price=hun.find(\"p\",{\"class\":\"product-action__price\"}).text.replace('\\n',\"\")\n",
    "    except:\n",
    "        price = None\n",
    "\n",
    "    try:\n",
    "        about=hun.find(\"div\",{\"class\":\"product-main__description\"}).text.replace('\\n',\"\")\n",
    "    except:\n",
    "        about=None\n",
    "\n",
    "    try:\n",
    "        rating = hun.find(\"div\",{\"class\":\"review-overview\"}).text.replace('\\n',\"\")\n",
    "    except:\n",
    "        rating=None\n",
    "\n",
    "    try:\n",
    "        name=hun.find(\"h1\",{\"class\":\"product-main__name\"}).text.replace('\\n',\"\")\n",
    "    except:\n",
    "        name=None\n",
    "\n",
    "    whisky = {\"name\":name,\"price\":price,\"rating\":rating,\"about\":about}\n",
    "\n",
    "    data.append(whisky)"
   ]
  },
  {
   "cell_type": "code",
   "execution_count": 16,
   "metadata": {},
   "outputs": [
    {
     "name": "stdout",
     "output_type": "stream",
     "text": [
      "                                                  name    price  \\\n",
      "0                                Suntory Torys Classic   £30.45   \n",
      "1                                           Nikka Days   £31.95   \n",
      "2                                         Suntory Toki   £31.95   \n",
      "3                                Akashi Blended Whisky   £32.75   \n",
      "4                        Tokinoka White Blended Whisky   £32.95   \n",
      "..                                                 ...      ...   \n",
      "107             Karuizawa 30 Year OldSherry Cask #5347  £20,000   \n",
      "108  Karuizawa 196742 Year Old Cask #6426 TWE 10th ...  £20,000   \n",
      "109               Hanyu 1990Queen of Hearts Cask #9102  £25,000   \n",
      "110                  Karuizawa 37 Year OldPearl Geisha  £35,000   \n",
      "111               Hanyu 1985 The JokerMonochrome Label  £60,000   \n",
      "\n",
      "              rating                                              about  \n",
      "0     3.5(2 Reviews)  Suntory Torys Classic is a light and easy-drin...  \n",
      "1        5(1 Review)  A vibrant addition to the Nikka range, Nikka D...  \n",
      "2      4(30 Reviews)  Toki is a blended whisky from Suntory's three ...  \n",
      "3    3.5(19 Reviews)  A lesser-known whisky outside the local Japane...  \n",
      "4               None  A Japanese blended whisky from White Oak disti...  \n",
      "..               ...                                                ...  \n",
      "107             None  The sherried half of a pair of Karuizawas laun...  \n",
      "108             None  Here it is - the legendary Karuizawa 1967 42yo...  \n",
      "109             None  One of a series of really terrific Japanese ma...  \n",
      "110             None                                                     \n",
      "111             None  The last and final release from the Ichiro's M...  \n",
      "\n",
      "[112 rows x 4 columns]\n"
     ]
    }
   ],
   "source": [
    "# PRINT THE DATA EXTRACTED/SCRAPED FROM THE WEBSITE\n",
    "df = pd.DataFrame(data)\n",
    "\n",
    "print(df)"
   ]
  },
  {
   "cell_type": "code",
   "execution_count": 17,
   "metadata": {},
   "outputs": [
    {
     "data": {
      "text/html": [
       "<div>\n",
       "<style scoped>\n",
       "    .dataframe tbody tr th:only-of-type {\n",
       "        vertical-align: middle;\n",
       "    }\n",
       "\n",
       "    .dataframe tbody tr th {\n",
       "        vertical-align: top;\n",
       "    }\n",
       "\n",
       "    .dataframe thead th {\n",
       "        text-align: right;\n",
       "    }\n",
       "</style>\n",
       "<table border=\"1\" class=\"dataframe\">\n",
       "  <thead>\n",
       "    <tr style=\"text-align: right;\">\n",
       "      <th></th>\n",
       "      <th>name</th>\n",
       "      <th>price</th>\n",
       "      <th>rating</th>\n",
       "      <th>about</th>\n",
       "    </tr>\n",
       "  </thead>\n",
       "  <tbody>\n",
       "    <tr>\n",
       "      <th>0</th>\n",
       "      <td>Suntory Torys Classic</td>\n",
       "      <td>£30.45</td>\n",
       "      <td>3.5(2 Reviews)</td>\n",
       "      <td>Suntory Torys Classic is a light and easy-drin...</td>\n",
       "    </tr>\n",
       "    <tr>\n",
       "      <th>1</th>\n",
       "      <td>Nikka Days</td>\n",
       "      <td>£31.95</td>\n",
       "      <td>5(1 Review)</td>\n",
       "      <td>A vibrant addition to the Nikka range, Nikka D...</td>\n",
       "    </tr>\n",
       "    <tr>\n",
       "      <th>2</th>\n",
       "      <td>Suntory Toki</td>\n",
       "      <td>£31.95</td>\n",
       "      <td>4(30 Reviews)</td>\n",
       "      <td>Toki is a blended whisky from Suntory's three ...</td>\n",
       "    </tr>\n",
       "    <tr>\n",
       "      <th>3</th>\n",
       "      <td>Akashi Blended Whisky</td>\n",
       "      <td>£32.75</td>\n",
       "      <td>3.5(19 Reviews)</td>\n",
       "      <td>A lesser-known whisky outside the local Japane...</td>\n",
       "    </tr>\n",
       "    <tr>\n",
       "      <th>4</th>\n",
       "      <td>Tokinoka White Blended Whisky</td>\n",
       "      <td>£32.95</td>\n",
       "      <td>None</td>\n",
       "      <td>A Japanese blended whisky from White Oak disti...</td>\n",
       "    </tr>\n",
       "  </tbody>\n",
       "</table>\n",
       "</div>"
      ],
      "text/plain": [
       "                            name   price           rating  \\\n",
       "0          Suntory Torys Classic  £30.45   3.5(2 Reviews)   \n",
       "1                     Nikka Days  £31.95      5(1 Review)   \n",
       "2                   Suntory Toki  £31.95    4(30 Reviews)   \n",
       "3          Akashi Blended Whisky  £32.75  3.5(19 Reviews)   \n",
       "4  Tokinoka White Blended Whisky  £32.95             None   \n",
       "\n",
       "                                               about  \n",
       "0  Suntory Torys Classic is a light and easy-drin...  \n",
       "1  A vibrant addition to the Nikka range, Nikka D...  \n",
       "2  Toki is a blended whisky from Suntory's three ...  \n",
       "3  A lesser-known whisky outside the local Japane...  \n",
       "4  A Japanese blended whisky from White Oak disti...  "
      ]
     },
     "execution_count": 17,
     "metadata": {},
     "output_type": "execute_result"
    }
   ],
   "source": [
    "df.head()"
   ]
  },
  {
   "cell_type": "code",
   "execution_count": 18,
   "metadata": {},
   "outputs": [
    {
     "data": {
      "text/plain": [
       "(112, 4)"
      ]
     },
     "execution_count": 18,
     "metadata": {},
     "output_type": "execute_result"
    }
   ],
   "source": [
    "#Hence its seen that i have scraped 112 products\n",
    "df.shape"
   ]
  },
  {
   "cell_type": "code",
   "execution_count": null,
   "metadata": {},
   "outputs": [],
   "source": []
  }
 ],
 "metadata": {
  "kernelspec": {
   "display_name": "Python 3",
   "language": "python",
   "name": "python3"
  },
  "language_info": {
   "codemirror_mode": {
    "name": "ipython",
    "version": 3
   },
   "file_extension": ".py",
   "mimetype": "text/x-python",
   "name": "python",
   "nbconvert_exporter": "python",
   "pygments_lexer": "ipython3",
   "version": "3.7.6"
  }
 },
 "nbformat": 4,
 "nbformat_minor": 4
}
