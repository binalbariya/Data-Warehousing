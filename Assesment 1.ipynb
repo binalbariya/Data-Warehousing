{
 "cells": [
  {
   "cell_type": "markdown",
   "metadata": {},
   "source": [
    "\n",
    "# github link : https://github.com/binalbariya/Data-Warehousing/blob/main/Assesment%201.ipynb"
   ]
  },
  {
   "cell_type": "markdown",
   "metadata": {},
   "source": [
    "# Basic data structures"
   ]
  },
  {
   "cell_type": "raw",
   "metadata": {},
   "source": [
    "Python has implicit support for Data Structures which enable you to store and access data. These structures are called List, Dictionary, Tuple and Set."
   ]
  },
  {
   "cell_type": "markdown",
   "metadata": {},
   "source": [
    "\n",
    "# List  \n",
    "Lists are used to store data of different data types in a sequential manner."
   ]
  },
  {
   "cell_type": "code",
   "execution_count": 1,
   "metadata": {},
   "outputs": [
    {
     "name": "stdout",
     "output_type": "stream",
     "text": [
      "[]\n",
      "['20MAI0075', 2, 'binal', 'example', 3.132]\n",
      "<class 'list'>\n"
     ]
    }
   ],
   "source": [
    "#Creating a list\n",
    "my_list = [] #create empty list\n",
    "print(my_list)\n",
    "my_list = [\"20MAI0075\", 2, \"binal\", 'example', 3.132] #creating list with data\n",
    "print(my_list)\n",
    "print(type(my_list))"
   ]
  },
  {
   "cell_type": "code",
   "execution_count": 2,
   "metadata": {},
   "outputs": [
    {
     "name": "stdout",
     "output_type": "stream",
     "text": [
      "[1, 2, 3]\n",
      "[1, 2, 3, [35, 26]]\n",
      "[1, 2, 3, [35, 26], 234, 'more_content']\n",
      "[1, 2, 'insert_content', 3, [35, 26], 234, 'more_content']\n"
     ]
    }
   ],
   "source": [
    "#Adding elements to the list\n",
    "my_list = [1, 2, 3]\n",
    "print(my_list)\n",
    "my_list.append([35, 26]) #add as a single element\n",
    "print(my_list)\n",
    "my_list.extend([234, 'more_content']) #add as different elements\n",
    "print(my_list)\n",
    "my_list.insert(2, 'insert_content') #add element i\n",
    "print(my_list)"
   ]
  },
  {
   "cell_type": "code",
   "execution_count": 3,
   "metadata": {},
   "outputs": [
    {
     "name": "stdout",
     "output_type": "stream",
     "text": [
      "[1, 2, 3, 'example', 3.132, 30]\n",
      "[1, 2, 3, 3.132, 30]\n",
      "Popped Element:  2  List remaining:  [1, 3, 3.132, 30]\n",
      "[]\n"
     ]
    }
   ],
   "source": [
    "#deleting elements from the list\n",
    "my_list = [1, 2, 3, 'example', 3.132, 10, 30]\n",
    "del my_list[5] #delete element at index 5\n",
    "print(my_list)\n",
    "my_list.remove('example') #remove element with value\n",
    "print(my_list)\n",
    "a = my_list.pop(1) #pop element from list\n",
    "print('Popped Element: ', a, ' List remaining: ', my_list)\n",
    "my_list.clear() #empty the list\n",
    "print(my_list)"
   ]
  },
  {
   "cell_type": "code",
   "execution_count": 4,
   "metadata": {},
   "outputs": [
    {
     "name": "stdout",
     "output_type": "stream",
     "text": [
      "1\n",
      "2\n",
      "3\n",
      "example\n",
      "3.132\n",
      "10\n",
      "30\n",
      "[1, 2, 3, 'example', 3.132, 10, 30]\n",
      "example\n",
      "[1, 2]\n",
      "[30, 10, 3.132, 'example', 3, 2, 1]\n"
     ]
    }
   ],
   "source": [
    "#Accessing Elements\n",
    "my_list = [1, 2, 3, 'example', 3.132, 10, 30]\n",
    "for element in my_list: #access elements one by one\n",
    "    print(element)\n",
    "print(my_list) #access all elements\n",
    "print(my_list[3]) #access index 3 element\n",
    "print(my_list[0:2]) #access elements from 0 to 1 and exclude 2\n",
    "print(my_list[::-1]) #access elements in reverse"
   ]
  },
  {
   "cell_type": "code",
   "execution_count": 5,
   "metadata": {},
   "outputs": [
    {
     "name": "stdout",
     "output_type": "stream",
     "text": [
      "6\n",
      "3\n",
      "2\n",
      "[1, 2, 3, 10, 10, 30]\n",
      "[30, 10, 10, 3, 2, 1]\n"
     ]
    }
   ],
   "source": [
    "#other extra functions\n",
    "\n",
    "my_list = [1, 2, 3, 10, 30, 10]\n",
    "print(len(my_list)) #find length of list\n",
    "print(my_list.index(10)) #find index of element that occurs first\n",
    "print(my_list.count(10)) #find count of the element\n",
    "print(sorted(my_list)) #print sorted list but not change original\n",
    "my_list.sort(reverse=True) #sort original list\n",
    "print(my_list)"
   ]
  },
  {
   "cell_type": "markdown",
   "metadata": {},
   "source": [
    "# Dictionary\n",
    "Dictionaries are used to store key-value pairs."
   ]
  },
  {
   "cell_type": "code",
   "execution_count": 6,
   "metadata": {},
   "outputs": [
    {
     "name": "stdout",
     "output_type": "stream",
     "text": [
      "{}\n",
      "{1: 'Python', 2: 'Java'}\n"
     ]
    }
   ],
   "source": [
    "#Creating a dictionary\n",
    "my_dict = {} #empty dictionary\n",
    "print(my_dict)\n",
    "my_dict = {1: 'Python', 2: 'Java'} #dictionary with elements\n",
    "print(my_dict)"
   ]
  },
  {
   "cell_type": "code",
   "execution_count": 7,
   "metadata": {},
   "outputs": [
    {
     "name": "stdout",
     "output_type": "stream",
     "text": [
      "{'First': 'Python', 'Second': 'Java'}\n",
      "{'First': 'Python', 'Second': 'C++'}\n",
      "{'First': 'Python', 'Second': 'C++', 'Third': 'Ruby'}\n"
     ]
    }
   ],
   "source": [
    "#Changing and adding key value pairs\n",
    "\n",
    "my_dict = {'First': 'Python', 'Second': 'Java'}\n",
    "print(my_dict)\n",
    "my_dict['Second'] = 'C++' #changing element\n",
    "print(my_dict)\n",
    "my_dict['Third'] = 'Ruby' #adding key-value pair\n",
    "print(my_dict)"
   ]
  },
  {
   "cell_type": "code",
   "execution_count": 8,
   "metadata": {},
   "outputs": [
    {
     "name": "stdout",
     "output_type": "stream",
     "text": [
      "Value: Ruby\n",
      "Dictionary: {'First': 'Python', 'Second': 'Java'}\n",
      "Key, value pair: ('Second', 'Java')\n",
      "Dictionary {'First': 'Python'}\n",
      "n {}\n"
     ]
    }
   ],
   "source": [
    "#deleting key value pairs\n",
    "\n",
    "my_dict = {'First': 'Python', 'Second': 'Java', 'Third': 'Ruby'}\n",
    "a = my_dict.pop('Third') #pop element\n",
    "print('Value:', a)\n",
    "print('Dictionary:', my_dict)\n",
    "b = my_dict.popitem() #pop the key-value pair\n",
    "print('Key, value pair:', b)\n",
    "print('Dictionary', my_dict)\n",
    "my_dict.clear() #empty dictionary\n",
    "print('n', my_dict)"
   ]
  },
  {
   "cell_type": "code",
   "execution_count": 9,
   "metadata": {},
   "outputs": [
    {
     "name": "stdout",
     "output_type": "stream",
     "text": [
      "Python\n",
      "Java\n"
     ]
    }
   ],
   "source": [
    "#Accessing elements\n",
    "\n",
    "my_dict = {'First': 'Python', 'Second': 'Java'}\n",
    "print(my_dict['First']) #access elements using keys\n",
    "print(my_dict.get('Second'))"
   ]
  },
  {
   "cell_type": "code",
   "execution_count": 10,
   "metadata": {},
   "outputs": [
    {
     "name": "stdout",
     "output_type": "stream",
     "text": [
      "dict_keys(['First', 'Second', 'Third'])\n",
      "dict_values(['Python', 'Java', 'Ruby'])\n",
      "dict_items([('First', 'Python'), ('Second', 'Java'), ('Third', 'Ruby')])\n",
      "Python\n"
     ]
    }
   ],
   "source": [
    "#Other functions\n",
    "\n",
    "my_dict = {'First': 'Python', 'Second': 'Java', 'Third': 'Ruby'}\n",
    "print(my_dict.keys()) #get keys\n",
    "print(my_dict.values()) #get values\n",
    "print(my_dict.items()) #get key-value pairs\n",
    "print(my_dict.get('First'))"
   ]
  },
  {
   "cell_type": "markdown",
   "metadata": {},
   "source": [
    "# Tuple\n",
    "Tuples are the same as lists are with the exception that the data once entered into the tuple cannot be changed no matter what. "
   ]
  },
  {
   "cell_type": "code",
   "execution_count": 11,
   "metadata": {},
   "outputs": [
    {
     "name": "stdout",
     "output_type": "stream",
     "text": [
      "(1, 2, 3)\n"
     ]
    }
   ],
   "source": [
    "#Creating a tuple\n",
    "\n",
    "my_tuple = (1, 2, 3) #create tuple\n",
    "print(my_tuple) "
   ]
  },
  {
   "cell_type": "code",
   "execution_count": 12,
   "metadata": {},
   "outputs": [
    {
     "name": "stdout",
     "output_type": "stream",
     "text": [
      "1\n",
      "2\n",
      "3\n",
      "binal\n",
      "(1, 2, 3, 'binal')\n",
      "1\n",
      "(1, 2, 3, 'binal')\n",
      "l\n"
     ]
    }
   ],
   "source": [
    "#Acesing elements\n",
    "my_tuple2 = (1, 2, 3, 'binal') #access elements\n",
    "for x in my_tuple2:\n",
    "    print(x)\n",
    "print(my_tuple2)\n",
    "print(my_tuple2[0])\n",
    "print(my_tuple2[:])\n",
    "print(my_tuple2[3][4])"
   ]
  },
  {
   "cell_type": "code",
   "execution_count": 13,
   "metadata": {},
   "outputs": [
    {
     "name": "stdout",
     "output_type": "stream",
     "text": [
      "(1, 2, 3, 4, 5, 6)\n"
     ]
    }
   ],
   "source": [
    "#Adding elements\n",
    "\n",
    "my_tuple = (1, 2, 3)\n",
    "my_tuple = my_tuple + (4, 5, 6) #add elements\n",
    "print(my_tuple)"
   ]
  },
  {
   "cell_type": "code",
   "execution_count": 14,
   "metadata": {},
   "outputs": [
    {
     "name": "stdout",
     "output_type": "stream",
     "text": [
      "(1, 2, 3, ['english', 'python'])\n",
      "1\n",
      "3\n"
     ]
    }
   ],
   "source": [
    "#Other functions\n",
    "\n",
    "my_tuple = (1, 2, 3, ['hindi', 'python'])\n",
    "my_tuple[3][0] = 'english'\n",
    "print(my_tuple)\n",
    "print(my_tuple.count(2))\n",
    "print(my_tuple.index(['english', 'python']))"
   ]
  },
  {
   "cell_type": "markdown",
   "metadata": {},
   "source": [
    "# Sets\n",
    "Sets are a collection of unordered elements that are unique. Meaning that even if the data is repeated more than one time, it would be entered into the set only once."
   ]
  },
  {
   "cell_type": "code",
   "execution_count": 15,
   "metadata": {},
   "outputs": [
    {
     "name": "stdout",
     "output_type": "stream",
     "text": [
      "{1, 2, 3, 4, 5}\n"
     ]
    }
   ],
   "source": [
    "#Creating a set\n",
    "\n",
    "my_set = {1, 2, 3, 4, 5, 5, 5} #create set\n",
    "print(my_set)"
   ]
  },
  {
   "cell_type": "code",
   "execution_count": 16,
   "metadata": {},
   "outputs": [
    {
     "name": "stdout",
     "output_type": "stream",
     "text": [
      "{1, 2, 3, 4}\n"
     ]
    }
   ],
   "source": [
    "#Adding elements\n",
    "\n",
    "my_set = {1, 2, 3}\n",
    "my_set.add(4) #add element to set\n",
    "print(my_set)"
   ]
  },
  {
   "cell_type": "code",
   "execution_count": 17,
   "metadata": {},
   "outputs": [
    {
     "name": "stdout",
     "output_type": "stream",
     "text": [
      "{1, 2, 3, 4, 5, 6} ---------- {1, 2, 3, 4, 5, 6}\n",
      "{3, 4} ---------- {3, 4}\n",
      "{1, 2} ---------- {1, 2}\n",
      "{1, 2, 5, 6} ---------- {1, 2, 5, 6}\n",
      "set()\n"
     ]
    }
   ],
   "source": [
    "# Operations on sets\n",
    "\n",
    "my_set = {1, 2, 3, 4}\n",
    "my_set_2 = {3, 4, 5, 6}\n",
    "print(my_set.union(my_set_2), '----------', my_set | my_set_2)\n",
    "print(my_set.intersection(my_set_2), '----------', my_set & my_set_2)\n",
    "print(my_set.difference(my_set_2), '----------', my_set - my_set_2)\n",
    "print(my_set.symmetric_difference(my_set_2), '----------', my_set ^ my_set_2)\n",
    "my_set.clear()\n",
    "print(my_set)"
   ]
  },
  {
   "cell_type": "code",
   "execution_count": null,
   "metadata": {},
   "outputs": [],
   "source": []
  },
  {
   "cell_type": "code",
   "execution_count": null,
   "metadata": {},
   "outputs": [],
   "source": []
  },
  {
   "cell_type": "markdown",
   "metadata": {},
   "source": [
    "# Numpy\n",
    "NumPy stands for Numerical Python. It is a Python library used for working with an array. In Python, we use the list for purpose of the array but it’s slow to process."
   ]
  },
  {
   "cell_type": "code",
   "execution_count": 18,
   "metadata": {},
   "outputs": [
    {
     "name": "stdout",
     "output_type": "stream",
     "text": [
      "1.19.1\n"
     ]
    }
   ],
   "source": [
    "import numpy as np\n",
    "print(np.__version__)"
   ]
  },
  {
   "cell_type": "code",
   "execution_count": 20,
   "metadata": {},
   "outputs": [
    {
     "name": "stdout",
     "output_type": "stream",
     "text": [
      "List in python :  [1, 2, 3, 4]\n",
      "Numpy Array in python : [1 2 3 4]\n"
     ]
    }
   ],
   "source": [
    "# importing numpy module \n",
    "import numpy as np \n",
    "  \n",
    "# creating list  \n",
    "list = [1, 2, 3, 4] \n",
    "  \n",
    "# creating numpy array \n",
    "sample_array = np.array(list) \n",
    "  \n",
    "print(\"List in python : \", list) \n",
    "  \n",
    "print(\"Numpy Array in python :\", \n",
    "      sample_array)"
   ]
  },
  {
   "cell_type": "code",
   "execution_count": 21,
   "metadata": {},
   "outputs": [
    {
     "name": "stdout",
     "output_type": "stream",
     "text": [
      "<class 'list'>\n",
      "<class 'numpy.ndarray'>\n"
     ]
    }
   ],
   "source": [
    "#Checking data type of list and array\n",
    "\n",
    "print(type(list)) \n",
    "  \n",
    "print(type(sample_array))"
   ]
  },
  {
   "cell_type": "code",
   "execution_count": 22,
   "metadata": {},
   "outputs": [
    {
     "name": "stdout",
     "output_type": "stream",
     "text": [
      "Numpy multi dimensional array in python\n",
      " [[ 1  2  3  4]\n",
      " [ 5  6  7  8]\n",
      " [ 9 10 11 12]]\n"
     ]
    }
   ],
   "source": [
    "#Multi dimensional array\n",
    "\n",
    "# creating list  \n",
    "list_1 = [1, 2, 3, 4] \n",
    "list_2 = [5, 6, 7, 8] \n",
    "list_3 = [9, 10, 11, 12] \n",
    "  \n",
    "# creating numpy array \n",
    "sample_array = np.array([list_1,  \n",
    "                         list_2, \n",
    "                         list_3]) \n",
    "  \n",
    "print(\"Numpy multi dimensional array in python\\n\", \n",
    "      sample_array)"
   ]
  },
  {
   "cell_type": "code",
   "execution_count": 23,
   "metadata": {},
   "outputs": [
    {
     "name": "stdout",
     "output_type": "stream",
     "text": [
      "Numpy array :\n",
      "[[ 1  2  3  4]\n",
      " [ 5  6  7  8]\n",
      " [ 9 10 11 12]]\n",
      "Shape of the array : (3, 4)\n"
     ]
    }
   ],
   "source": [
    "#shape\n",
    "\n",
    "print(\"Numpy array :\") \n",
    "print(sample_array) \n",
    "  \n",
    "# print shape of the array \n",
    "print(\"Shape of the array :\", \n",
    "      sample_array.shape)"
   ]
  },
  {
   "cell_type": "code",
   "execution_count": 41,
   "metadata": {},
   "outputs": [
    {
     "name": "stdout",
     "output_type": "stream",
     "text": [
      "shape of the array : (5, 3)\n",
      "Array is of type:  <class 'numpy.ndarray'>\n",
      "No. of dimensions:  2\n",
      "Size of array:  15\n",
      "Array stores elements of type:  int32\n"
     ]
    }
   ],
   "source": [
    "arr = np.array([[0, 4, 2], \n",
    "                       [3, 4, 5], \n",
    "                       [23, 4, 5], \n",
    "                       [2, 34, 5], \n",
    "                       [5, 6, 7]]) \n",
    "  \n",
    "print(\"shape of the array :\", \n",
    "      arr.shape)\n",
    "\n",
    "# Printing type of arr object \n",
    "print(\"Array is of type: \", type(arr)) \n",
    "  \n",
    "# Printing array dimensions (axes) \n",
    "print(\"No. of dimensions: \", arr.ndim) \n",
    "    \n",
    "# Printing size (total number of elements) of array \n",
    "print(\"Size of array: \", arr.size) \n",
    "  \n",
    "# Printing type of elements in array \n",
    "print(\"Array stores elements of type: \", arr.dtype) "
   ]
  },
  {
   "cell_type": "code",
   "execution_count": 25,
   "metadata": {},
   "outputs": [
    {
     "name": "stdout",
     "output_type": "stream",
     "text": [
      "Data type of the array 1 : int32\n",
      "Data type of array 2 : float64\n"
     ]
    }
   ],
   "source": [
    "# Creating the array  \n",
    "sample_array_1 = np.array([[0, 4, 2]]) \n",
    "  \n",
    "sample_array_2 = np.array([0.2, 0.4, 2.4]) \n",
    "  \n",
    "# display data type \n",
    "print(\"Data type of the array 1 :\", \n",
    "      sample_array_1.dtype) \n",
    "  \n",
    "print(\"Data type of array 2 :\", \n",
    "      sample_array_2.dtype)"
   ]
  },
  {
   "cell_type": "code",
   "execution_count": 30,
   "metadata": {},
   "outputs": [
    {
     "name": "stdout",
     "output_type": "stream",
     "text": [
      "Array : [3 4 5 5]\n"
     ]
    }
   ],
   "source": [
    "#Array can also be created as\n",
    "  \n",
    "arr = np.array([3,4,5,5]) \n",
    "  \n",
    "print(\"Array :\",arr)"
   ]
  },
  {
   "cell_type": "code",
   "execution_count": 31,
   "metadata": {},
   "outputs": [
    {
     "name": "stdout",
     "output_type": "stream",
     "text": [
      "fromiter() array : [ 0.  1.  4.  9. 16. 25. 36. 49.]\n"
     ]
    }
   ],
   "source": [
    "#  numpy.fromiter(): The fromiter() function create a new one-dimensional array from an iterable object.\n",
    "\n",
    "# iterable \n",
    "iterable = (a*a for a in range(8)) \n",
    "  \n",
    "arr = np.fromiter(iterable, float) \n",
    "  \n",
    "print(\"fromiter() array :\",arr)"
   ]
  },
  {
   "cell_type": "code",
   "execution_count": 32,
   "metadata": {},
   "outputs": [
    {
     "name": "stdout",
     "output_type": "stream",
     "text": [
      "fromiter() array : ['G' 'e' 'e' 'k' 'f' 'o' 'r' 'g' 'e' 'e' 'k' 's']\n"
     ]
    }
   ],
   "source": [
    "var = \"Geekforgeeks\"\n",
    "  \n",
    "arr = np.fromiter(var, dtype = 'U2') \n",
    "  \n",
    "print(\"fromiter() array :\", \n",
    "      arr)"
   ]
  },
  {
   "cell_type": "code",
   "execution_count": 33,
   "metadata": {},
   "outputs": [
    {
     "data": {
      "text/plain": [
       "array([ 1.,  3.,  5.,  7.,  9., 11., 13., 15., 17., 19.], dtype=float32)"
      ]
     },
     "execution_count": 33,
     "metadata": {},
     "output_type": "execute_result"
    }
   ],
   "source": [
    "#  numpy.arange(): This is an inbuilt NumPy function that returns evenly spaced values within a given interval.\n",
    "\n",
    "np.arange(1, 20 , 2,  \n",
    "          dtype = np.float32)"
   ]
  },
  {
   "cell_type": "code",
   "execution_count": 35,
   "metadata": {},
   "outputs": [
    {
     "data": {
      "text/plain": [
       "array([ 3.5 , 21.75, 40.  ])"
      ]
     },
     "execution_count": 35,
     "metadata": {},
     "output_type": "execute_result"
    }
   ],
   "source": [
    "# numpy.linspace(): This function returns evenly spaced numbers over a specified between two limits.\n",
    "\n",
    "np.linspace(3.5, 40, 3)"
   ]
  },
  {
   "cell_type": "code",
   "execution_count": 36,
   "metadata": {},
   "outputs": [
    {
     "data": {
      "text/plain": [
       "array([ 3,  6, 10])"
      ]
     },
     "execution_count": 36,
     "metadata": {},
     "output_type": "execute_result"
    }
   ],
   "source": [
    "np.linspace(3.5, 10, 3,  \n",
    "            dtype = np.int32)"
   ]
  },
  {
   "cell_type": "code",
   "execution_count": 37,
   "metadata": {},
   "outputs": [
    {
     "data": {
      "text/plain": [
       "array([[ 1,  5,  9],\n",
       "       [ 2,  6, 10],\n",
       "       [ 3,  7, 11],\n",
       "       [ 4,  8, 12]])"
      ]
     },
     "execution_count": 37,
     "metadata": {},
     "output_type": "execute_result"
    }
   ],
   "source": [
    "# numpy.empty(): This function create a new array of given shape and type, without initializing value.\n",
    "\n",
    "np.empty([4, 3], \n",
    "         dtype = np.int32, \n",
    "         order = 'f')"
   ]
  },
  {
   "cell_type": "code",
   "execution_count": 38,
   "metadata": {},
   "outputs": [
    {
     "data": {
      "text/plain": [
       "array([[1, 1, 1],\n",
       "       [1, 1, 1],\n",
       "       [1, 1, 1],\n",
       "       [1, 1, 1]])"
      ]
     },
     "execution_count": 38,
     "metadata": {},
     "output_type": "execute_result"
    }
   ],
   "source": [
    "# numpy.ones(): This function is used to get a new array of given shape and type, filled with ones(1).\n",
    "\n",
    "np.ones([4, 3], \n",
    "        dtype = np.int32, \n",
    "        order = 'f')"
   ]
  },
  {
   "cell_type": "code",
   "execution_count": 39,
   "metadata": {},
   "outputs": [
    {
     "data": {
      "text/plain": [
       "array([[0, 0, 0],\n",
       "       [0, 0, 0],\n",
       "       [0, 0, 0],\n",
       "       [0, 0, 0]])"
      ]
     },
     "execution_count": 39,
     "metadata": {},
     "output_type": "execute_result"
    }
   ],
   "source": [
    "#numpy.zeros(): This function is used to get a new array of given shape and type, filled with zeros(0).\n",
    "\n",
    "np.zeros([4, 3],  \n",
    "         dtype = np.int32, \n",
    "         order = 'f')"
   ]
  },
  {
   "cell_type": "code",
   "execution_count": null,
   "metadata": {},
   "outputs": [],
   "source": []
  },
  {
   "cell_type": "code",
   "execution_count": null,
   "metadata": {},
   "outputs": [],
   "source": []
  },
  {
   "cell_type": "code",
   "execution_count": null,
   "metadata": {},
   "outputs": [],
   "source": []
  },
  {
   "cell_type": "markdown",
   "metadata": {},
   "source": [
    "# Pandas\n"
   ]
  },
  {
   "cell_type": "code",
   "execution_count": 43,
   "metadata": {},
   "outputs": [
    {
     "name": "stdout",
     "output_type": "stream",
     "text": [
      "1.1.3\n"
     ]
    }
   ],
   "source": [
    "import pandas as pd\n",
    "print(pd.__version__)"
   ]
  },
  {
   "cell_type": "code",
   "execution_count": 44,
   "metadata": {},
   "outputs": [
    {
     "name": "stdout",
     "output_type": "stream",
     "text": [
      "0    1.0\n",
      "1    3.0\n",
      "2    5.0\n",
      "3    NaN\n",
      "4    6.0\n",
      "5    8.0\n",
      "dtype: float64\n"
     ]
    }
   ],
   "source": [
    "# Creating a Series by passing a list of values, letting pandas create a default integer index:\n",
    "s = pd.Series([1, 3, 5, np.nan, 6, 8])\n",
    "print(s)"
   ]
  },
  {
   "cell_type": "code",
   "execution_count": 46,
   "metadata": {},
   "outputs": [
    {
     "data": {
      "text/plain": [
       "DatetimeIndex(['2013-01-01', '2013-01-02', '2013-01-03', '2013-01-04',\n",
       "               '2013-01-05', '2013-01-06'],\n",
       "              dtype='datetime64[ns]', freq='D')"
      ]
     },
     "execution_count": 46,
     "metadata": {},
     "output_type": "execute_result"
    }
   ],
   "source": [
    "# Creating a DataFrame by passing a NumPy array, with a datetime index and labeled columns:\n",
    "\n",
    "dates = pd.date_range(\"20130101\", periods=6)\n",
    "dates"
   ]
  },
  {
   "cell_type": "code",
   "execution_count": 50,
   "metadata": {},
   "outputs": [
    {
     "data": {
      "text/html": [
       "<div>\n",
       "<style scoped>\n",
       "    .dataframe tbody tr th:only-of-type {\n",
       "        vertical-align: middle;\n",
       "    }\n",
       "\n",
       "    .dataframe tbody tr th {\n",
       "        vertical-align: top;\n",
       "    }\n",
       "\n",
       "    .dataframe thead th {\n",
       "        text-align: right;\n",
       "    }\n",
       "</style>\n",
       "<table border=\"1\" class=\"dataframe\">\n",
       "  <thead>\n",
       "    <tr style=\"text-align: right;\">\n",
       "      <th></th>\n",
       "      <th>A</th>\n",
       "      <th>B</th>\n",
       "      <th>C</th>\n",
       "      <th>D</th>\n",
       "    </tr>\n",
       "  </thead>\n",
       "  <tbody>\n",
       "    <tr>\n",
       "      <th>2013-01-01</th>\n",
       "      <td>0.203897</td>\n",
       "      <td>-0.527945</td>\n",
       "      <td>-1.053923</td>\n",
       "      <td>1.330420</td>\n",
       "    </tr>\n",
       "    <tr>\n",
       "      <th>2013-01-02</th>\n",
       "      <td>1.789702</td>\n",
       "      <td>0.399927</td>\n",
       "      <td>0.690118</td>\n",
       "      <td>1.088212</td>\n",
       "    </tr>\n",
       "    <tr>\n",
       "      <th>2013-01-03</th>\n",
       "      <td>0.475112</td>\n",
       "      <td>-0.635497</td>\n",
       "      <td>0.594416</td>\n",
       "      <td>0.395118</td>\n",
       "    </tr>\n",
       "    <tr>\n",
       "      <th>2013-01-04</th>\n",
       "      <td>0.630971</td>\n",
       "      <td>-1.776335</td>\n",
       "      <td>-0.487059</td>\n",
       "      <td>-0.963542</td>\n",
       "    </tr>\n",
       "    <tr>\n",
       "      <th>2013-01-05</th>\n",
       "      <td>1.221116</td>\n",
       "      <td>1.344814</td>\n",
       "      <td>0.909924</td>\n",
       "      <td>0.382799</td>\n",
       "    </tr>\n",
       "    <tr>\n",
       "      <th>2013-01-06</th>\n",
       "      <td>1.076815</td>\n",
       "      <td>-0.775511</td>\n",
       "      <td>1.254177</td>\n",
       "      <td>-0.827070</td>\n",
       "    </tr>\n",
       "  </tbody>\n",
       "</table>\n",
       "</div>"
      ],
      "text/plain": [
       "                   A         B         C         D\n",
       "2013-01-01  0.203897 -0.527945 -1.053923  1.330420\n",
       "2013-01-02  1.789702  0.399927  0.690118  1.088212\n",
       "2013-01-03  0.475112 -0.635497  0.594416  0.395118\n",
       "2013-01-04  0.630971 -1.776335 -0.487059 -0.963542\n",
       "2013-01-05  1.221116  1.344814  0.909924  0.382799\n",
       "2013-01-06  1.076815 -0.775511  1.254177 -0.827070"
      ]
     },
     "execution_count": 50,
     "metadata": {},
     "output_type": "execute_result"
    }
   ],
   "source": [
    "df = pd.DataFrame(np.random.randn(6, 4), index=dates, columns=[\"A\",\"B\",\"C\",\"D\"])\n",
    "df"
   ]
  },
  {
   "cell_type": "code",
   "execution_count": 52,
   "metadata": {},
   "outputs": [],
   "source": [
    "df2 = pd.DataFrame({\n",
    "\"A\": 1.0,\n",
    "\"B\": pd.Timestamp(\"20130102\"),\n",
    "\"C\": pd.Series(1, index=[0,1,2,3], dtype=\"float32\"),\n",
    "\"D\": np.array([3] * 4, dtype=\"int32\"),\n",
    "\"E\": pd.Categorical([\"test\", \"train\", \"test\", \"train\"]),\n",
    "\"F\": \"foo\",\n",
    "})"
   ]
  },
  {
   "cell_type": "code",
   "execution_count": 53,
   "metadata": {},
   "outputs": [
    {
     "data": {
      "text/html": [
       "<div>\n",
       "<style scoped>\n",
       "    .dataframe tbody tr th:only-of-type {\n",
       "        vertical-align: middle;\n",
       "    }\n",
       "\n",
       "    .dataframe tbody tr th {\n",
       "        vertical-align: top;\n",
       "    }\n",
       "\n",
       "    .dataframe thead th {\n",
       "        text-align: right;\n",
       "    }\n",
       "</style>\n",
       "<table border=\"1\" class=\"dataframe\">\n",
       "  <thead>\n",
       "    <tr style=\"text-align: right;\">\n",
       "      <th></th>\n",
       "      <th>A</th>\n",
       "      <th>B</th>\n",
       "      <th>C</th>\n",
       "      <th>D</th>\n",
       "      <th>E</th>\n",
       "      <th>F</th>\n",
       "    </tr>\n",
       "  </thead>\n",
       "  <tbody>\n",
       "    <tr>\n",
       "      <th>0</th>\n",
       "      <td>1.0</td>\n",
       "      <td>2013-01-02</td>\n",
       "      <td>1.0</td>\n",
       "      <td>3</td>\n",
       "      <td>test</td>\n",
       "      <td>foo</td>\n",
       "    </tr>\n",
       "    <tr>\n",
       "      <th>1</th>\n",
       "      <td>1.0</td>\n",
       "      <td>2013-01-02</td>\n",
       "      <td>1.0</td>\n",
       "      <td>3</td>\n",
       "      <td>train</td>\n",
       "      <td>foo</td>\n",
       "    </tr>\n",
       "    <tr>\n",
       "      <th>2</th>\n",
       "      <td>1.0</td>\n",
       "      <td>2013-01-02</td>\n",
       "      <td>1.0</td>\n",
       "      <td>3</td>\n",
       "      <td>test</td>\n",
       "      <td>foo</td>\n",
       "    </tr>\n",
       "    <tr>\n",
       "      <th>3</th>\n",
       "      <td>1.0</td>\n",
       "      <td>2013-01-02</td>\n",
       "      <td>1.0</td>\n",
       "      <td>3</td>\n",
       "      <td>train</td>\n",
       "      <td>foo</td>\n",
       "    </tr>\n",
       "  </tbody>\n",
       "</table>\n",
       "</div>"
      ],
      "text/plain": [
       "     A          B    C  D      E    F\n",
       "0  1.0 2013-01-02  1.0  3   test  foo\n",
       "1  1.0 2013-01-02  1.0  3  train  foo\n",
       "2  1.0 2013-01-02  1.0  3   test  foo\n",
       "3  1.0 2013-01-02  1.0  3  train  foo"
      ]
     },
     "execution_count": 53,
     "metadata": {},
     "output_type": "execute_result"
    }
   ],
   "source": [
    "df2"
   ]
  },
  {
   "cell_type": "code",
   "execution_count": 55,
   "metadata": {},
   "outputs": [
    {
     "data": {
      "text/plain": [
       "A           float64\n",
       "B    datetime64[ns]\n",
       "C           float32\n",
       "D             int32\n",
       "E          category\n",
       "F            object\n",
       "dtype: object"
      ]
     },
     "execution_count": 55,
     "metadata": {},
     "output_type": "execute_result"
    }
   ],
   "source": [
    "df2.dtypes"
   ]
  },
  {
   "cell_type": "markdown",
   "metadata": {},
   "source": [
    "dataframe = pd.read_csv(\"csv file location\")"
   ]
  },
  {
   "cell_type": "code",
   "execution_count": 57,
   "metadata": {},
   "outputs": [
    {
     "data": {
      "text/html": [
       "<div>\n",
       "<style scoped>\n",
       "    .dataframe tbody tr th:only-of-type {\n",
       "        vertical-align: middle;\n",
       "    }\n",
       "\n",
       "    .dataframe tbody tr th {\n",
       "        vertical-align: top;\n",
       "    }\n",
       "\n",
       "    .dataframe thead th {\n",
       "        text-align: right;\n",
       "    }\n",
       "</style>\n",
       "<table border=\"1\" class=\"dataframe\">\n",
       "  <thead>\n",
       "    <tr style=\"text-align: right;\">\n",
       "      <th></th>\n",
       "      <th>A</th>\n",
       "      <th>B</th>\n",
       "      <th>C</th>\n",
       "      <th>D</th>\n",
       "    </tr>\n",
       "  </thead>\n",
       "  <tbody>\n",
       "    <tr>\n",
       "      <th>2013-01-01</th>\n",
       "      <td>0.203897</td>\n",
       "      <td>-0.527945</td>\n",
       "      <td>-1.053923</td>\n",
       "      <td>1.330420</td>\n",
       "    </tr>\n",
       "    <tr>\n",
       "      <th>2013-01-02</th>\n",
       "      <td>1.789702</td>\n",
       "      <td>0.399927</td>\n",
       "      <td>0.690118</td>\n",
       "      <td>1.088212</td>\n",
       "    </tr>\n",
       "    <tr>\n",
       "      <th>2013-01-03</th>\n",
       "      <td>0.475112</td>\n",
       "      <td>-0.635497</td>\n",
       "      <td>0.594416</td>\n",
       "      <td>0.395118</td>\n",
       "    </tr>\n",
       "    <tr>\n",
       "      <th>2013-01-04</th>\n",
       "      <td>0.630971</td>\n",
       "      <td>-1.776335</td>\n",
       "      <td>-0.487059</td>\n",
       "      <td>-0.963542</td>\n",
       "    </tr>\n",
       "    <tr>\n",
       "      <th>2013-01-05</th>\n",
       "      <td>1.221116</td>\n",
       "      <td>1.344814</td>\n",
       "      <td>0.909924</td>\n",
       "      <td>0.382799</td>\n",
       "    </tr>\n",
       "  </tbody>\n",
       "</table>\n",
       "</div>"
      ],
      "text/plain": [
       "                   A         B         C         D\n",
       "2013-01-01  0.203897 -0.527945 -1.053923  1.330420\n",
       "2013-01-02  1.789702  0.399927  0.690118  1.088212\n",
       "2013-01-03  0.475112 -0.635497  0.594416  0.395118\n",
       "2013-01-04  0.630971 -1.776335 -0.487059 -0.963542\n",
       "2013-01-05  1.221116  1.344814  0.909924  0.382799"
      ]
     },
     "execution_count": 57,
     "metadata": {},
     "output_type": "execute_result"
    }
   ],
   "source": [
    "# Viewing the data\n",
    "\n",
    "df.head()"
   ]
  },
  {
   "cell_type": "code",
   "execution_count": 58,
   "metadata": {},
   "outputs": [
    {
     "data": {
      "text/html": [
       "<div>\n",
       "<style scoped>\n",
       "    .dataframe tbody tr th:only-of-type {\n",
       "        vertical-align: middle;\n",
       "    }\n",
       "\n",
       "    .dataframe tbody tr th {\n",
       "        vertical-align: top;\n",
       "    }\n",
       "\n",
       "    .dataframe thead th {\n",
       "        text-align: right;\n",
       "    }\n",
       "</style>\n",
       "<table border=\"1\" class=\"dataframe\">\n",
       "  <thead>\n",
       "    <tr style=\"text-align: right;\">\n",
       "      <th></th>\n",
       "      <th>A</th>\n",
       "      <th>B</th>\n",
       "      <th>C</th>\n",
       "      <th>D</th>\n",
       "    </tr>\n",
       "  </thead>\n",
       "  <tbody>\n",
       "    <tr>\n",
       "      <th>2013-01-04</th>\n",
       "      <td>0.630971</td>\n",
       "      <td>-1.776335</td>\n",
       "      <td>-0.487059</td>\n",
       "      <td>-0.963542</td>\n",
       "    </tr>\n",
       "    <tr>\n",
       "      <th>2013-01-05</th>\n",
       "      <td>1.221116</td>\n",
       "      <td>1.344814</td>\n",
       "      <td>0.909924</td>\n",
       "      <td>0.382799</td>\n",
       "    </tr>\n",
       "    <tr>\n",
       "      <th>2013-01-06</th>\n",
       "      <td>1.076815</td>\n",
       "      <td>-0.775511</td>\n",
       "      <td>1.254177</td>\n",
       "      <td>-0.827070</td>\n",
       "    </tr>\n",
       "  </tbody>\n",
       "</table>\n",
       "</div>"
      ],
      "text/plain": [
       "                   A         B         C         D\n",
       "2013-01-04  0.630971 -1.776335 -0.487059 -0.963542\n",
       "2013-01-05  1.221116  1.344814  0.909924  0.382799\n",
       "2013-01-06  1.076815 -0.775511  1.254177 -0.827070"
      ]
     },
     "execution_count": 58,
     "metadata": {},
     "output_type": "execute_result"
    }
   ],
   "source": [
    "df.tail(3)"
   ]
  },
  {
   "cell_type": "code",
   "execution_count": 59,
   "metadata": {},
   "outputs": [
    {
     "data": {
      "text/plain": [
       "DatetimeIndex(['2013-01-01', '2013-01-02', '2013-01-03', '2013-01-04',\n",
       "               '2013-01-05', '2013-01-06'],\n",
       "              dtype='datetime64[ns]', freq='D')"
      ]
     },
     "execution_count": 59,
     "metadata": {},
     "output_type": "execute_result"
    }
   ],
   "source": [
    "df.index"
   ]
  },
  {
   "cell_type": "code",
   "execution_count": 60,
   "metadata": {},
   "outputs": [
    {
     "data": {
      "text/plain": [
       "Index(['A', 'B', 'C', 'D'], dtype='object')"
      ]
     },
     "execution_count": 60,
     "metadata": {},
     "output_type": "execute_result"
    }
   ],
   "source": [
    "df.columns"
   ]
  },
  {
   "cell_type": "code",
   "execution_count": 61,
   "metadata": {},
   "outputs": [
    {
     "data": {
      "text/plain": [
       "A    float64\n",
       "B    float64\n",
       "C    float64\n",
       "D    float64\n",
       "dtype: object"
      ]
     },
     "execution_count": 61,
     "metadata": {},
     "output_type": "execute_result"
    }
   ],
   "source": [
    "df.dtypes"
   ]
  },
  {
   "cell_type": "code",
   "execution_count": 62,
   "metadata": {},
   "outputs": [
    {
     "name": "stdout",
     "output_type": "stream",
     "text": [
      "<class 'pandas.core.frame.DataFrame'>\n",
      "DatetimeIndex: 6 entries, 2013-01-01 to 2013-01-06\n",
      "Freq: D\n",
      "Data columns (total 4 columns):\n",
      " #   Column  Non-Null Count  Dtype  \n",
      "---  ------  --------------  -----  \n",
      " 0   A       6 non-null      float64\n",
      " 1   B       6 non-null      float64\n",
      " 2   C       6 non-null      float64\n",
      " 3   D       6 non-null      float64\n",
      "dtypes: float64(4)\n",
      "memory usage: 240.0 bytes\n"
     ]
    }
   ],
   "source": [
    "df.info()"
   ]
  },
  {
   "cell_type": "code",
   "execution_count": 63,
   "metadata": {},
   "outputs": [
    {
     "data": {
      "text/html": [
       "<div>\n",
       "<style scoped>\n",
       "    .dataframe tbody tr th:only-of-type {\n",
       "        vertical-align: middle;\n",
       "    }\n",
       "\n",
       "    .dataframe tbody tr th {\n",
       "        vertical-align: top;\n",
       "    }\n",
       "\n",
       "    .dataframe thead th {\n",
       "        text-align: right;\n",
       "    }\n",
       "</style>\n",
       "<table border=\"1\" class=\"dataframe\">\n",
       "  <thead>\n",
       "    <tr style=\"text-align: right;\">\n",
       "      <th></th>\n",
       "      <th>A</th>\n",
       "      <th>B</th>\n",
       "      <th>C</th>\n",
       "      <th>D</th>\n",
       "    </tr>\n",
       "  </thead>\n",
       "  <tbody>\n",
       "    <tr>\n",
       "      <th>count</th>\n",
       "      <td>6.000000</td>\n",
       "      <td>6.000000</td>\n",
       "      <td>6.000000</td>\n",
       "      <td>6.000000</td>\n",
       "    </tr>\n",
       "    <tr>\n",
       "      <th>mean</th>\n",
       "      <td>0.899602</td>\n",
       "      <td>-0.328425</td>\n",
       "      <td>0.317942</td>\n",
       "      <td>0.234323</td>\n",
       "    </tr>\n",
       "    <tr>\n",
       "      <th>std</th>\n",
       "      <td>0.576787</td>\n",
       "      <td>1.073374</td>\n",
       "      <td>0.891288</td>\n",
       "      <td>0.952879</td>\n",
       "    </tr>\n",
       "    <tr>\n",
       "      <th>min</th>\n",
       "      <td>0.203897</td>\n",
       "      <td>-1.776335</td>\n",
       "      <td>-1.053923</td>\n",
       "      <td>-0.963542</td>\n",
       "    </tr>\n",
       "    <tr>\n",
       "      <th>25%</th>\n",
       "      <td>0.514077</td>\n",
       "      <td>-0.740508</td>\n",
       "      <td>-0.216690</td>\n",
       "      <td>-0.524603</td>\n",
       "    </tr>\n",
       "    <tr>\n",
       "      <th>50%</th>\n",
       "      <td>0.853893</td>\n",
       "      <td>-0.581721</td>\n",
       "      <td>0.642267</td>\n",
       "      <td>0.388958</td>\n",
       "    </tr>\n",
       "    <tr>\n",
       "      <th>75%</th>\n",
       "      <td>1.185041</td>\n",
       "      <td>0.167959</td>\n",
       "      <td>0.854973</td>\n",
       "      <td>0.914939</td>\n",
       "    </tr>\n",
       "    <tr>\n",
       "      <th>max</th>\n",
       "      <td>1.789702</td>\n",
       "      <td>1.344814</td>\n",
       "      <td>1.254177</td>\n",
       "      <td>1.330420</td>\n",
       "    </tr>\n",
       "  </tbody>\n",
       "</table>\n",
       "</div>"
      ],
      "text/plain": [
       "              A         B         C         D\n",
       "count  6.000000  6.000000  6.000000  6.000000\n",
       "mean   0.899602 -0.328425  0.317942  0.234323\n",
       "std    0.576787  1.073374  0.891288  0.952879\n",
       "min    0.203897 -1.776335 -1.053923 -0.963542\n",
       "25%    0.514077 -0.740508 -0.216690 -0.524603\n",
       "50%    0.853893 -0.581721  0.642267  0.388958\n",
       "75%    1.185041  0.167959  0.854973  0.914939\n",
       "max    1.789702  1.344814  1.254177  1.330420"
      ]
     },
     "execution_count": 63,
     "metadata": {},
     "output_type": "execute_result"
    }
   ],
   "source": [
    "df.describe()"
   ]
  },
  {
   "cell_type": "code",
   "execution_count": 64,
   "metadata": {},
   "outputs": [
    {
     "data": {
      "text/plain": [
       "array([[ 0.20389664, -0.52794493, -1.05392291,  1.33042049],\n",
       "       [ 1.7897021 ,  0.39992695,  0.69011813,  1.08821232],\n",
       "       [ 0.47511184, -0.63549703,  0.59441614,  0.39511825],\n",
       "       [ 0.63097057, -1.77633518, -0.48705908, -0.96354183],\n",
       "       [ 1.22111623,  1.34481365,  0.90992446,  0.38279859],\n",
       "       [ 1.0768148 , -0.77551141,  1.25417737, -0.82707048]])"
      ]
     },
     "execution_count": 64,
     "metadata": {},
     "output_type": "execute_result"
    }
   ],
   "source": [
    "#DataFrame.to_numpy() gives a NumPy representation of the underlying data.\n",
    "\n",
    "df.to_numpy()"
   ]
  },
  {
   "cell_type": "code",
   "execution_count": 65,
   "metadata": {},
   "outputs": [
    {
     "data": {
      "text/plain": [
       "array([[1.0, Timestamp('2013-01-02 00:00:00'), 1.0, 3, 'test', 'foo'],\n",
       "       [1.0, Timestamp('2013-01-02 00:00:00'), 1.0, 3, 'train', 'foo'],\n",
       "       [1.0, Timestamp('2013-01-02 00:00:00'), 1.0, 3, 'test', 'foo'],\n",
       "       [1.0, Timestamp('2013-01-02 00:00:00'), 1.0, 3, 'train', 'foo']],\n",
       "      dtype=object)"
      ]
     },
     "execution_count": 65,
     "metadata": {},
     "output_type": "execute_result"
    }
   ],
   "source": [
    "df2.to_numpy()"
   ]
  },
  {
   "cell_type": "code",
   "execution_count": 67,
   "metadata": {},
   "outputs": [
    {
     "data": {
      "text/html": [
       "<div>\n",
       "<style scoped>\n",
       "    .dataframe tbody tr th:only-of-type {\n",
       "        vertical-align: middle;\n",
       "    }\n",
       "\n",
       "    .dataframe tbody tr th {\n",
       "        vertical-align: top;\n",
       "    }\n",
       "\n",
       "    .dataframe thead th {\n",
       "        text-align: right;\n",
       "    }\n",
       "</style>\n",
       "<table border=\"1\" class=\"dataframe\">\n",
       "  <thead>\n",
       "    <tr style=\"text-align: right;\">\n",
       "      <th></th>\n",
       "      <th>2013-01-01</th>\n",
       "      <th>2013-01-02</th>\n",
       "      <th>2013-01-03</th>\n",
       "      <th>2013-01-04</th>\n",
       "      <th>2013-01-05</th>\n",
       "      <th>2013-01-06</th>\n",
       "    </tr>\n",
       "  </thead>\n",
       "  <tbody>\n",
       "    <tr>\n",
       "      <th>A</th>\n",
       "      <td>0.203897</td>\n",
       "      <td>1.789702</td>\n",
       "      <td>0.475112</td>\n",
       "      <td>0.630971</td>\n",
       "      <td>1.221116</td>\n",
       "      <td>1.076815</td>\n",
       "    </tr>\n",
       "    <tr>\n",
       "      <th>B</th>\n",
       "      <td>-0.527945</td>\n",
       "      <td>0.399927</td>\n",
       "      <td>-0.635497</td>\n",
       "      <td>-1.776335</td>\n",
       "      <td>1.344814</td>\n",
       "      <td>-0.775511</td>\n",
       "    </tr>\n",
       "    <tr>\n",
       "      <th>C</th>\n",
       "      <td>-1.053923</td>\n",
       "      <td>0.690118</td>\n",
       "      <td>0.594416</td>\n",
       "      <td>-0.487059</td>\n",
       "      <td>0.909924</td>\n",
       "      <td>1.254177</td>\n",
       "    </tr>\n",
       "    <tr>\n",
       "      <th>D</th>\n",
       "      <td>1.330420</td>\n",
       "      <td>1.088212</td>\n",
       "      <td>0.395118</td>\n",
       "      <td>-0.963542</td>\n",
       "      <td>0.382799</td>\n",
       "      <td>-0.827070</td>\n",
       "    </tr>\n",
       "  </tbody>\n",
       "</table>\n",
       "</div>"
      ],
      "text/plain": [
       "   2013-01-01  2013-01-02  2013-01-03  2013-01-04  2013-01-05  2013-01-06\n",
       "A    0.203897    1.789702    0.475112    0.630971    1.221116    1.076815\n",
       "B   -0.527945    0.399927   -0.635497   -1.776335    1.344814   -0.775511\n",
       "C   -1.053923    0.690118    0.594416   -0.487059    0.909924    1.254177\n",
       "D    1.330420    1.088212    0.395118   -0.963542    0.382799   -0.827070"
      ]
     },
     "execution_count": 67,
     "metadata": {},
     "output_type": "execute_result"
    }
   ],
   "source": [
    "#Transpose of a dataset\n",
    "df.T"
   ]
  },
  {
   "cell_type": "code",
   "execution_count": 68,
   "metadata": {},
   "outputs": [
    {
     "data": {
      "text/html": [
       "<div>\n",
       "<style scoped>\n",
       "    .dataframe tbody tr th:only-of-type {\n",
       "        vertical-align: middle;\n",
       "    }\n",
       "\n",
       "    .dataframe tbody tr th {\n",
       "        vertical-align: top;\n",
       "    }\n",
       "\n",
       "    .dataframe thead th {\n",
       "        text-align: right;\n",
       "    }\n",
       "</style>\n",
       "<table border=\"1\" class=\"dataframe\">\n",
       "  <thead>\n",
       "    <tr style=\"text-align: right;\">\n",
       "      <th></th>\n",
       "      <th>D</th>\n",
       "      <th>C</th>\n",
       "      <th>B</th>\n",
       "      <th>A</th>\n",
       "    </tr>\n",
       "  </thead>\n",
       "  <tbody>\n",
       "    <tr>\n",
       "      <th>2013-01-01</th>\n",
       "      <td>1.330420</td>\n",
       "      <td>-1.053923</td>\n",
       "      <td>-0.527945</td>\n",
       "      <td>0.203897</td>\n",
       "    </tr>\n",
       "    <tr>\n",
       "      <th>2013-01-02</th>\n",
       "      <td>1.088212</td>\n",
       "      <td>0.690118</td>\n",
       "      <td>0.399927</td>\n",
       "      <td>1.789702</td>\n",
       "    </tr>\n",
       "    <tr>\n",
       "      <th>2013-01-03</th>\n",
       "      <td>0.395118</td>\n",
       "      <td>0.594416</td>\n",
       "      <td>-0.635497</td>\n",
       "      <td>0.475112</td>\n",
       "    </tr>\n",
       "    <tr>\n",
       "      <th>2013-01-04</th>\n",
       "      <td>-0.963542</td>\n",
       "      <td>-0.487059</td>\n",
       "      <td>-1.776335</td>\n",
       "      <td>0.630971</td>\n",
       "    </tr>\n",
       "    <tr>\n",
       "      <th>2013-01-05</th>\n",
       "      <td>0.382799</td>\n",
       "      <td>0.909924</td>\n",
       "      <td>1.344814</td>\n",
       "      <td>1.221116</td>\n",
       "    </tr>\n",
       "    <tr>\n",
       "      <th>2013-01-06</th>\n",
       "      <td>-0.827070</td>\n",
       "      <td>1.254177</td>\n",
       "      <td>-0.775511</td>\n",
       "      <td>1.076815</td>\n",
       "    </tr>\n",
       "  </tbody>\n",
       "</table>\n",
       "</div>"
      ],
      "text/plain": [
       "                   D         C         B         A\n",
       "2013-01-01  1.330420 -1.053923 -0.527945  0.203897\n",
       "2013-01-02  1.088212  0.690118  0.399927  1.789702\n",
       "2013-01-03  0.395118  0.594416 -0.635497  0.475112\n",
       "2013-01-04 -0.963542 -0.487059 -1.776335  0.630971\n",
       "2013-01-05  0.382799  0.909924  1.344814  1.221116\n",
       "2013-01-06 -0.827070  1.254177 -0.775511  1.076815"
      ]
     },
     "execution_count": 68,
     "metadata": {},
     "output_type": "execute_result"
    }
   ],
   "source": [
    "# Sorting by an aaxis\n",
    "\n",
    "df.sort_index(axis=1, ascending=False)"
   ]
  },
  {
   "cell_type": "code",
   "execution_count": 70,
   "metadata": {},
   "outputs": [
    {
     "data": {
      "text/html": [
       "<div>\n",
       "<style scoped>\n",
       "    .dataframe tbody tr th:only-of-type {\n",
       "        vertical-align: middle;\n",
       "    }\n",
       "\n",
       "    .dataframe tbody tr th {\n",
       "        vertical-align: top;\n",
       "    }\n",
       "\n",
       "    .dataframe thead th {\n",
       "        text-align: right;\n",
       "    }\n",
       "</style>\n",
       "<table border=\"1\" class=\"dataframe\">\n",
       "  <thead>\n",
       "    <tr style=\"text-align: right;\">\n",
       "      <th></th>\n",
       "      <th>A</th>\n",
       "      <th>B</th>\n",
       "      <th>C</th>\n",
       "      <th>D</th>\n",
       "    </tr>\n",
       "  </thead>\n",
       "  <tbody>\n",
       "    <tr>\n",
       "      <th>2013-01-04</th>\n",
       "      <td>0.630971</td>\n",
       "      <td>-1.776335</td>\n",
       "      <td>-0.487059</td>\n",
       "      <td>-0.963542</td>\n",
       "    </tr>\n",
       "    <tr>\n",
       "      <th>2013-01-06</th>\n",
       "      <td>1.076815</td>\n",
       "      <td>-0.775511</td>\n",
       "      <td>1.254177</td>\n",
       "      <td>-0.827070</td>\n",
       "    </tr>\n",
       "    <tr>\n",
       "      <th>2013-01-03</th>\n",
       "      <td>0.475112</td>\n",
       "      <td>-0.635497</td>\n",
       "      <td>0.594416</td>\n",
       "      <td>0.395118</td>\n",
       "    </tr>\n",
       "    <tr>\n",
       "      <th>2013-01-01</th>\n",
       "      <td>0.203897</td>\n",
       "      <td>-0.527945</td>\n",
       "      <td>-1.053923</td>\n",
       "      <td>1.330420</td>\n",
       "    </tr>\n",
       "    <tr>\n",
       "      <th>2013-01-02</th>\n",
       "      <td>1.789702</td>\n",
       "      <td>0.399927</td>\n",
       "      <td>0.690118</td>\n",
       "      <td>1.088212</td>\n",
       "    </tr>\n",
       "    <tr>\n",
       "      <th>2013-01-05</th>\n",
       "      <td>1.221116</td>\n",
       "      <td>1.344814</td>\n",
       "      <td>0.909924</td>\n",
       "      <td>0.382799</td>\n",
       "    </tr>\n",
       "  </tbody>\n",
       "</table>\n",
       "</div>"
      ],
      "text/plain": [
       "                   A         B         C         D\n",
       "2013-01-04  0.630971 -1.776335 -0.487059 -0.963542\n",
       "2013-01-06  1.076815 -0.775511  1.254177 -0.827070\n",
       "2013-01-03  0.475112 -0.635497  0.594416  0.395118\n",
       "2013-01-01  0.203897 -0.527945 -1.053923  1.330420\n",
       "2013-01-02  1.789702  0.399927  0.690118  1.088212\n",
       "2013-01-05  1.221116  1.344814  0.909924  0.382799"
      ]
     },
     "execution_count": 70,
     "metadata": {},
     "output_type": "execute_result"
    }
   ],
   "source": [
    "#Sorting by values\n",
    "\n",
    "df.sort_values(by=\"B\")\n"
   ]
  },
  {
   "cell_type": "code",
   "execution_count": 71,
   "metadata": {},
   "outputs": [
    {
     "data": {
      "text/plain": [
       "2013-01-01    0.203897\n",
       "2013-01-02    1.789702\n",
       "2013-01-03    0.475112\n",
       "2013-01-04    0.630971\n",
       "2013-01-05    1.221116\n",
       "2013-01-06    1.076815\n",
       "Freq: D, Name: A, dtype: float64"
      ]
     },
     "execution_count": 71,
     "metadata": {},
     "output_type": "execute_result"
    }
   ],
   "source": [
    "#SELECTION\n",
    "\n",
    "df[\"A\"]"
   ]
  },
  {
   "cell_type": "code",
   "execution_count": 72,
   "metadata": {},
   "outputs": [
    {
     "data": {
      "text/html": [
       "<div>\n",
       "<style scoped>\n",
       "    .dataframe tbody tr th:only-of-type {\n",
       "        vertical-align: middle;\n",
       "    }\n",
       "\n",
       "    .dataframe tbody tr th {\n",
       "        vertical-align: top;\n",
       "    }\n",
       "\n",
       "    .dataframe thead th {\n",
       "        text-align: right;\n",
       "    }\n",
       "</style>\n",
       "<table border=\"1\" class=\"dataframe\">\n",
       "  <thead>\n",
       "    <tr style=\"text-align: right;\">\n",
       "      <th></th>\n",
       "      <th>A</th>\n",
       "      <th>B</th>\n",
       "      <th>C</th>\n",
       "      <th>D</th>\n",
       "    </tr>\n",
       "  </thead>\n",
       "  <tbody>\n",
       "    <tr>\n",
       "      <th>2013-01-01</th>\n",
       "      <td>0.203897</td>\n",
       "      <td>-0.527945</td>\n",
       "      <td>-1.053923</td>\n",
       "      <td>1.330420</td>\n",
       "    </tr>\n",
       "    <tr>\n",
       "      <th>2013-01-02</th>\n",
       "      <td>1.789702</td>\n",
       "      <td>0.399927</td>\n",
       "      <td>0.690118</td>\n",
       "      <td>1.088212</td>\n",
       "    </tr>\n",
       "    <tr>\n",
       "      <th>2013-01-03</th>\n",
       "      <td>0.475112</td>\n",
       "      <td>-0.635497</td>\n",
       "      <td>0.594416</td>\n",
       "      <td>0.395118</td>\n",
       "    </tr>\n",
       "  </tbody>\n",
       "</table>\n",
       "</div>"
      ],
      "text/plain": [
       "                   A         B         C         D\n",
       "2013-01-01  0.203897 -0.527945 -1.053923  1.330420\n",
       "2013-01-02  1.789702  0.399927  0.690118  1.088212\n",
       "2013-01-03  0.475112 -0.635497  0.594416  0.395118"
      ]
     },
     "execution_count": 72,
     "metadata": {},
     "output_type": "execute_result"
    }
   ],
   "source": [
    "df[0:3]"
   ]
  },
  {
   "cell_type": "code",
   "execution_count": 73,
   "metadata": {},
   "outputs": [
    {
     "data": {
      "text/html": [
       "<div>\n",
       "<style scoped>\n",
       "    .dataframe tbody tr th:only-of-type {\n",
       "        vertical-align: middle;\n",
       "    }\n",
       "\n",
       "    .dataframe tbody tr th {\n",
       "        vertical-align: top;\n",
       "    }\n",
       "\n",
       "    .dataframe thead th {\n",
       "        text-align: right;\n",
       "    }\n",
       "</style>\n",
       "<table border=\"1\" class=\"dataframe\">\n",
       "  <thead>\n",
       "    <tr style=\"text-align: right;\">\n",
       "      <th></th>\n",
       "      <th>A</th>\n",
       "      <th>B</th>\n",
       "      <th>C</th>\n",
       "      <th>D</th>\n",
       "    </tr>\n",
       "  </thead>\n",
       "  <tbody>\n",
       "    <tr>\n",
       "      <th>2013-01-02</th>\n",
       "      <td>1.789702</td>\n",
       "      <td>0.399927</td>\n",
       "      <td>0.690118</td>\n",
       "      <td>1.088212</td>\n",
       "    </tr>\n",
       "    <tr>\n",
       "      <th>2013-01-03</th>\n",
       "      <td>0.475112</td>\n",
       "      <td>-0.635497</td>\n",
       "      <td>0.594416</td>\n",
       "      <td>0.395118</td>\n",
       "    </tr>\n",
       "    <tr>\n",
       "      <th>2013-01-04</th>\n",
       "      <td>0.630971</td>\n",
       "      <td>-1.776335</td>\n",
       "      <td>-0.487059</td>\n",
       "      <td>-0.963542</td>\n",
       "    </tr>\n",
       "  </tbody>\n",
       "</table>\n",
       "</div>"
      ],
      "text/plain": [
       "                   A         B         C         D\n",
       "2013-01-02  1.789702  0.399927  0.690118  1.088212\n",
       "2013-01-03  0.475112 -0.635497  0.594416  0.395118\n",
       "2013-01-04  0.630971 -1.776335 -0.487059 -0.963542"
      ]
     },
     "execution_count": 73,
     "metadata": {},
     "output_type": "execute_result"
    }
   ],
   "source": [
    "df[\"20130102\":\"20130104\"]"
   ]
  },
  {
   "cell_type": "code",
   "execution_count": 74,
   "metadata": {},
   "outputs": [
    {
     "data": {
      "text/plain": [
       "A    0.203897\n",
       "B   -0.527945\n",
       "C   -1.053923\n",
       "D    1.330420\n",
       "Name: 2013-01-01 00:00:00, dtype: float64"
      ]
     },
     "execution_count": 74,
     "metadata": {},
     "output_type": "execute_result"
    }
   ],
   "source": [
    "#selecting by label\n",
    "\n",
    "df.loc[dates[0]]"
   ]
  },
  {
   "cell_type": "code",
   "execution_count": 75,
   "metadata": {},
   "outputs": [
    {
     "data": {
      "text/html": [
       "<div>\n",
       "<style scoped>\n",
       "    .dataframe tbody tr th:only-of-type {\n",
       "        vertical-align: middle;\n",
       "    }\n",
       "\n",
       "    .dataframe tbody tr th {\n",
       "        vertical-align: top;\n",
       "    }\n",
       "\n",
       "    .dataframe thead th {\n",
       "        text-align: right;\n",
       "    }\n",
       "</style>\n",
       "<table border=\"1\" class=\"dataframe\">\n",
       "  <thead>\n",
       "    <tr style=\"text-align: right;\">\n",
       "      <th></th>\n",
       "      <th>A</th>\n",
       "      <th>B</th>\n",
       "    </tr>\n",
       "  </thead>\n",
       "  <tbody>\n",
       "    <tr>\n",
       "      <th>2013-01-01</th>\n",
       "      <td>0.203897</td>\n",
       "      <td>-0.527945</td>\n",
       "    </tr>\n",
       "    <tr>\n",
       "      <th>2013-01-02</th>\n",
       "      <td>1.789702</td>\n",
       "      <td>0.399927</td>\n",
       "    </tr>\n",
       "    <tr>\n",
       "      <th>2013-01-03</th>\n",
       "      <td>0.475112</td>\n",
       "      <td>-0.635497</td>\n",
       "    </tr>\n",
       "    <tr>\n",
       "      <th>2013-01-04</th>\n",
       "      <td>0.630971</td>\n",
       "      <td>-1.776335</td>\n",
       "    </tr>\n",
       "    <tr>\n",
       "      <th>2013-01-05</th>\n",
       "      <td>1.221116</td>\n",
       "      <td>1.344814</td>\n",
       "    </tr>\n",
       "    <tr>\n",
       "      <th>2013-01-06</th>\n",
       "      <td>1.076815</td>\n",
       "      <td>-0.775511</td>\n",
       "    </tr>\n",
       "  </tbody>\n",
       "</table>\n",
       "</div>"
      ],
      "text/plain": [
       "                   A         B\n",
       "2013-01-01  0.203897 -0.527945\n",
       "2013-01-02  1.789702  0.399927\n",
       "2013-01-03  0.475112 -0.635497\n",
       "2013-01-04  0.630971 -1.776335\n",
       "2013-01-05  1.221116  1.344814\n",
       "2013-01-06  1.076815 -0.775511"
      ]
     },
     "execution_count": 75,
     "metadata": {},
     "output_type": "execute_result"
    }
   ],
   "source": [
    "df.loc[:, [\"A\", \"B\"]]"
   ]
  },
  {
   "cell_type": "code",
   "execution_count": 76,
   "metadata": {},
   "outputs": [
    {
     "data": {
      "text/html": [
       "<div>\n",
       "<style scoped>\n",
       "    .dataframe tbody tr th:only-of-type {\n",
       "        vertical-align: middle;\n",
       "    }\n",
       "\n",
       "    .dataframe tbody tr th {\n",
       "        vertical-align: top;\n",
       "    }\n",
       "\n",
       "    .dataframe thead th {\n",
       "        text-align: right;\n",
       "    }\n",
       "</style>\n",
       "<table border=\"1\" class=\"dataframe\">\n",
       "  <thead>\n",
       "    <tr style=\"text-align: right;\">\n",
       "      <th></th>\n",
       "      <th>A</th>\n",
       "      <th>B</th>\n",
       "    </tr>\n",
       "  </thead>\n",
       "  <tbody>\n",
       "    <tr>\n",
       "      <th>2013-01-02</th>\n",
       "      <td>1.789702</td>\n",
       "      <td>0.399927</td>\n",
       "    </tr>\n",
       "    <tr>\n",
       "      <th>2013-01-03</th>\n",
       "      <td>0.475112</td>\n",
       "      <td>-0.635497</td>\n",
       "    </tr>\n",
       "    <tr>\n",
       "      <th>2013-01-04</th>\n",
       "      <td>0.630971</td>\n",
       "      <td>-1.776335</td>\n",
       "    </tr>\n",
       "  </tbody>\n",
       "</table>\n",
       "</div>"
      ],
      "text/plain": [
       "                   A         B\n",
       "2013-01-02  1.789702  0.399927\n",
       "2013-01-03  0.475112 -0.635497\n",
       "2013-01-04  0.630971 -1.776335"
      ]
     },
     "execution_count": 76,
     "metadata": {},
     "output_type": "execute_result"
    }
   ],
   "source": [
    "df.loc[\"20130102\":\"20130104\", [\"A\", \"B\"]]"
   ]
  },
  {
   "cell_type": "code",
   "execution_count": 77,
   "metadata": {},
   "outputs": [
    {
     "data": {
      "text/plain": [
       "0.20389663711251033"
      ]
     },
     "execution_count": 77,
     "metadata": {},
     "output_type": "execute_result"
    }
   ],
   "source": [
    "df.loc[dates[0], \"A\"]"
   ]
  },
  {
   "cell_type": "code",
   "execution_count": 78,
   "metadata": {},
   "outputs": [
    {
     "data": {
      "text/plain": [
       "0.20389663711251033"
      ]
     },
     "execution_count": 78,
     "metadata": {},
     "output_type": "execute_result"
    }
   ],
   "source": [
    "df.at[dates[0], \"A\"]"
   ]
  },
  {
   "cell_type": "code",
   "execution_count": 79,
   "metadata": {},
   "outputs": [
    {
     "data": {
      "text/plain": [
       "A    0.630971\n",
       "B   -1.776335\n",
       "C   -0.487059\n",
       "D   -0.963542\n",
       "Name: 2013-01-04 00:00:00, dtype: float64"
      ]
     },
     "execution_count": 79,
     "metadata": {},
     "output_type": "execute_result"
    }
   ],
   "source": [
    "# Selection by postiiton\n",
    "\n",
    "df.iloc[3]"
   ]
  },
  {
   "cell_type": "code",
   "execution_count": 80,
   "metadata": {},
   "outputs": [
    {
     "data": {
      "text/html": [
       "<div>\n",
       "<style scoped>\n",
       "    .dataframe tbody tr th:only-of-type {\n",
       "        vertical-align: middle;\n",
       "    }\n",
       "\n",
       "    .dataframe tbody tr th {\n",
       "        vertical-align: top;\n",
       "    }\n",
       "\n",
       "    .dataframe thead th {\n",
       "        text-align: right;\n",
       "    }\n",
       "</style>\n",
       "<table border=\"1\" class=\"dataframe\">\n",
       "  <thead>\n",
       "    <tr style=\"text-align: right;\">\n",
       "      <th></th>\n",
       "      <th>A</th>\n",
       "      <th>B</th>\n",
       "    </tr>\n",
       "  </thead>\n",
       "  <tbody>\n",
       "    <tr>\n",
       "      <th>2013-01-04</th>\n",
       "      <td>0.630971</td>\n",
       "      <td>-1.776335</td>\n",
       "    </tr>\n",
       "    <tr>\n",
       "      <th>2013-01-05</th>\n",
       "      <td>1.221116</td>\n",
       "      <td>1.344814</td>\n",
       "    </tr>\n",
       "  </tbody>\n",
       "</table>\n",
       "</div>"
      ],
      "text/plain": [
       "                   A         B\n",
       "2013-01-04  0.630971 -1.776335\n",
       "2013-01-05  1.221116  1.344814"
      ]
     },
     "execution_count": 80,
     "metadata": {},
     "output_type": "execute_result"
    }
   ],
   "source": [
    "df.iloc[3:5, 0:2]"
   ]
  },
  {
   "cell_type": "code",
   "execution_count": null,
   "metadata": {},
   "outputs": [],
   "source": [
    "\n"
   ]
  },
  {
   "cell_type": "code",
   "execution_count": 87,
   "metadata": {},
   "outputs": [
    {
     "data": {
      "text/html": [
       "<div>\n",
       "<style scoped>\n",
       "    .dataframe tbody tr th:only-of-type {\n",
       "        vertical-align: middle;\n",
       "    }\n",
       "\n",
       "    .dataframe tbody tr th {\n",
       "        vertical-align: top;\n",
       "    }\n",
       "\n",
       "    .dataframe thead th {\n",
       "        text-align: right;\n",
       "    }\n",
       "</style>\n",
       "<table border=\"1\" class=\"dataframe\">\n",
       "  <thead>\n",
       "    <tr style=\"text-align: right;\">\n",
       "      <th></th>\n",
       "      <th>A</th>\n",
       "      <th>B</th>\n",
       "      <th>C</th>\n",
       "      <th>D</th>\n",
       "      <th>E</th>\n",
       "      <th>E</th>\n",
       "    </tr>\n",
       "  </thead>\n",
       "  <tbody>\n",
       "    <tr>\n",
       "      <th>2013-01-01</th>\n",
       "      <td>0.203897</td>\n",
       "      <td>-0.527945</td>\n",
       "      <td>-1.053923</td>\n",
       "      <td>1.330420</td>\n",
       "      <td>1.0</td>\n",
       "      <td>1.0</td>\n",
       "    </tr>\n",
       "    <tr>\n",
       "      <th>2013-01-02</th>\n",
       "      <td>1.789702</td>\n",
       "      <td>0.399927</td>\n",
       "      <td>0.690118</td>\n",
       "      <td>1.088212</td>\n",
       "      <td>1.0</td>\n",
       "      <td>1.0</td>\n",
       "    </tr>\n",
       "    <tr>\n",
       "      <th>2013-01-03</th>\n",
       "      <td>0.475112</td>\n",
       "      <td>-0.635497</td>\n",
       "      <td>0.594416</td>\n",
       "      <td>0.395118</td>\n",
       "      <td>NaN</td>\n",
       "      <td>NaN</td>\n",
       "    </tr>\n",
       "    <tr>\n",
       "      <th>2013-01-04</th>\n",
       "      <td>0.630971</td>\n",
       "      <td>-1.776335</td>\n",
       "      <td>-0.487059</td>\n",
       "      <td>-0.963542</td>\n",
       "      <td>NaN</td>\n",
       "      <td>NaN</td>\n",
       "    </tr>\n",
       "  </tbody>\n",
       "</table>\n",
       "</div>"
      ],
      "text/plain": [
       "                   A         B         C         D    E    E\n",
       "2013-01-01  0.203897 -0.527945 -1.053923  1.330420  1.0  1.0\n",
       "2013-01-02  1.789702  0.399927  0.690118  1.088212  1.0  1.0\n",
       "2013-01-03  0.475112 -0.635497  0.594416  0.395118  NaN  NaN\n",
       "2013-01-04  0.630971 -1.776335 -0.487059 -0.963542  NaN  NaN"
      ]
     },
     "execution_count": 87,
     "metadata": {},
     "output_type": "execute_result"
    }
   ],
   "source": [
    "#Missing data\n",
    "\n",
    "df1 = df.reindex(index=dates[0:4], columns=['A','B','C','D','E'] + [\"E\"])\n",
    "df1.loc[dates[0] : dates[1], \"E\"] = 1\n",
    "\n",
    "df1"
   ]
  },
  {
   "cell_type": "code",
   "execution_count": 88,
   "metadata": {},
   "outputs": [
    {
     "data": {
      "text/html": [
       "<div>\n",
       "<style scoped>\n",
       "    .dataframe tbody tr th:only-of-type {\n",
       "        vertical-align: middle;\n",
       "    }\n",
       "\n",
       "    .dataframe tbody tr th {\n",
       "        vertical-align: top;\n",
       "    }\n",
       "\n",
       "    .dataframe thead th {\n",
       "        text-align: right;\n",
       "    }\n",
       "</style>\n",
       "<table border=\"1\" class=\"dataframe\">\n",
       "  <thead>\n",
       "    <tr style=\"text-align: right;\">\n",
       "      <th></th>\n",
       "      <th>A</th>\n",
       "      <th>B</th>\n",
       "      <th>C</th>\n",
       "      <th>D</th>\n",
       "      <th>E</th>\n",
       "      <th>E</th>\n",
       "    </tr>\n",
       "  </thead>\n",
       "  <tbody>\n",
       "    <tr>\n",
       "      <th>2013-01-01</th>\n",
       "      <td>0.203897</td>\n",
       "      <td>-0.527945</td>\n",
       "      <td>-1.053923</td>\n",
       "      <td>1.330420</td>\n",
       "      <td>1.0</td>\n",
       "      <td>1.0</td>\n",
       "    </tr>\n",
       "    <tr>\n",
       "      <th>2013-01-02</th>\n",
       "      <td>1.789702</td>\n",
       "      <td>0.399927</td>\n",
       "      <td>0.690118</td>\n",
       "      <td>1.088212</td>\n",
       "      <td>1.0</td>\n",
       "      <td>1.0</td>\n",
       "    </tr>\n",
       "  </tbody>\n",
       "</table>\n",
       "</div>"
      ],
      "text/plain": [
       "                   A         B         C         D    E    E\n",
       "2013-01-01  0.203897 -0.527945 -1.053923  1.330420  1.0  1.0\n",
       "2013-01-02  1.789702  0.399927  0.690118  1.088212  1.0  1.0"
      ]
     },
     "execution_count": 88,
     "metadata": {},
     "output_type": "execute_result"
    }
   ],
   "source": [
    "#to drop rows having missing data\n",
    "\n",
    "df1.dropna(how=\"any\")"
   ]
  },
  {
   "cell_type": "code",
   "execution_count": 89,
   "metadata": {},
   "outputs": [
    {
     "data": {
      "text/html": [
       "<div>\n",
       "<style scoped>\n",
       "    .dataframe tbody tr th:only-of-type {\n",
       "        vertical-align: middle;\n",
       "    }\n",
       "\n",
       "    .dataframe tbody tr th {\n",
       "        vertical-align: top;\n",
       "    }\n",
       "\n",
       "    .dataframe thead th {\n",
       "        text-align: right;\n",
       "    }\n",
       "</style>\n",
       "<table border=\"1\" class=\"dataframe\">\n",
       "  <thead>\n",
       "    <tr style=\"text-align: right;\">\n",
       "      <th></th>\n",
       "      <th>A</th>\n",
       "      <th>B</th>\n",
       "      <th>C</th>\n",
       "      <th>D</th>\n",
       "      <th>E</th>\n",
       "      <th>E</th>\n",
       "    </tr>\n",
       "  </thead>\n",
       "  <tbody>\n",
       "    <tr>\n",
       "      <th>2013-01-01</th>\n",
       "      <td>0.203897</td>\n",
       "      <td>-0.527945</td>\n",
       "      <td>-1.053923</td>\n",
       "      <td>1.330420</td>\n",
       "      <td>1.0</td>\n",
       "      <td>1.0</td>\n",
       "    </tr>\n",
       "    <tr>\n",
       "      <th>2013-01-02</th>\n",
       "      <td>1.789702</td>\n",
       "      <td>0.399927</td>\n",
       "      <td>0.690118</td>\n",
       "      <td>1.088212</td>\n",
       "      <td>1.0</td>\n",
       "      <td>1.0</td>\n",
       "    </tr>\n",
       "    <tr>\n",
       "      <th>2013-01-03</th>\n",
       "      <td>0.475112</td>\n",
       "      <td>-0.635497</td>\n",
       "      <td>0.594416</td>\n",
       "      <td>0.395118</td>\n",
       "      <td>5.0</td>\n",
       "      <td>5.0</td>\n",
       "    </tr>\n",
       "    <tr>\n",
       "      <th>2013-01-04</th>\n",
       "      <td>0.630971</td>\n",
       "      <td>-1.776335</td>\n",
       "      <td>-0.487059</td>\n",
       "      <td>-0.963542</td>\n",
       "      <td>5.0</td>\n",
       "      <td>5.0</td>\n",
       "    </tr>\n",
       "  </tbody>\n",
       "</table>\n",
       "</div>"
      ],
      "text/plain": [
       "                   A         B         C         D    E    E\n",
       "2013-01-01  0.203897 -0.527945 -1.053923  1.330420  1.0  1.0\n",
       "2013-01-02  1.789702  0.399927  0.690118  1.088212  1.0  1.0\n",
       "2013-01-03  0.475112 -0.635497  0.594416  0.395118  5.0  5.0\n",
       "2013-01-04  0.630971 -1.776335 -0.487059 -0.963542  5.0  5.0"
      ]
     },
     "execution_count": 89,
     "metadata": {},
     "output_type": "execute_result"
    }
   ],
   "source": [
    "#filling missing data\n",
    "\n",
    "df1.fillna(value=5)"
   ]
  },
  {
   "cell_type": "code",
   "execution_count": 90,
   "metadata": {},
   "outputs": [
    {
     "data": {
      "text/html": [
       "<div>\n",
       "<style scoped>\n",
       "    .dataframe tbody tr th:only-of-type {\n",
       "        vertical-align: middle;\n",
       "    }\n",
       "\n",
       "    .dataframe tbody tr th {\n",
       "        vertical-align: top;\n",
       "    }\n",
       "\n",
       "    .dataframe thead th {\n",
       "        text-align: right;\n",
       "    }\n",
       "</style>\n",
       "<table border=\"1\" class=\"dataframe\">\n",
       "  <thead>\n",
       "    <tr style=\"text-align: right;\">\n",
       "      <th></th>\n",
       "      <th>A</th>\n",
       "      <th>B</th>\n",
       "      <th>C</th>\n",
       "      <th>D</th>\n",
       "      <th>E</th>\n",
       "      <th>E</th>\n",
       "    </tr>\n",
       "  </thead>\n",
       "  <tbody>\n",
       "    <tr>\n",
       "      <th>2013-01-01</th>\n",
       "      <td>False</td>\n",
       "      <td>False</td>\n",
       "      <td>False</td>\n",
       "      <td>False</td>\n",
       "      <td>False</td>\n",
       "      <td>False</td>\n",
       "    </tr>\n",
       "    <tr>\n",
       "      <th>2013-01-02</th>\n",
       "      <td>False</td>\n",
       "      <td>False</td>\n",
       "      <td>False</td>\n",
       "      <td>False</td>\n",
       "      <td>False</td>\n",
       "      <td>False</td>\n",
       "    </tr>\n",
       "    <tr>\n",
       "      <th>2013-01-03</th>\n",
       "      <td>False</td>\n",
       "      <td>False</td>\n",
       "      <td>False</td>\n",
       "      <td>False</td>\n",
       "      <td>True</td>\n",
       "      <td>True</td>\n",
       "    </tr>\n",
       "    <tr>\n",
       "      <th>2013-01-04</th>\n",
       "      <td>False</td>\n",
       "      <td>False</td>\n",
       "      <td>False</td>\n",
       "      <td>False</td>\n",
       "      <td>True</td>\n",
       "      <td>True</td>\n",
       "    </tr>\n",
       "  </tbody>\n",
       "</table>\n",
       "</div>"
      ],
      "text/plain": [
       "                A      B      C      D      E      E\n",
       "2013-01-01  False  False  False  False  False  False\n",
       "2013-01-02  False  False  False  False  False  False\n",
       "2013-01-03  False  False  False  False   True   True\n",
       "2013-01-04  False  False  False  False   True   True"
      ]
     },
     "execution_count": 90,
     "metadata": {},
     "output_type": "execute_result"
    }
   ],
   "source": [
    "pd.isna(df1)"
   ]
  },
  {
   "cell_type": "code",
   "execution_count": 91,
   "metadata": {},
   "outputs": [
    {
     "data": {
      "text/plain": [
       "A    0\n",
       "B    0\n",
       "C    0\n",
       "D    0\n",
       "E    2\n",
       "E    2\n",
       "dtype: int64"
      ]
     },
     "execution_count": 91,
     "metadata": {},
     "output_type": "execute_result"
    }
   ],
   "source": [
    "pd.isna(df1).sum()"
   ]
  },
  {
   "cell_type": "code",
   "execution_count": 92,
   "metadata": {},
   "outputs": [
    {
     "data": {
      "text/plain": [
       "A    0.899602\n",
       "B   -0.328425\n",
       "C    0.317942\n",
       "D    0.234323\n",
       "dtype: float64"
      ]
     },
     "execution_count": 92,
     "metadata": {},
     "output_type": "execute_result"
    }
   ],
   "source": [
    "df.mean()"
   ]
  },
  {
   "cell_type": "code",
   "execution_count": 94,
   "metadata": {},
   "outputs": [
    {
     "data": {
      "text/html": [
       "<div>\n",
       "<style scoped>\n",
       "    .dataframe tbody tr th:only-of-type {\n",
       "        vertical-align: middle;\n",
       "    }\n",
       "\n",
       "    .dataframe tbody tr th {\n",
       "        vertical-align: top;\n",
       "    }\n",
       "\n",
       "    .dataframe thead th {\n",
       "        text-align: right;\n",
       "    }\n",
       "</style>\n",
       "<table border=\"1\" class=\"dataframe\">\n",
       "  <thead>\n",
       "    <tr style=\"text-align: right;\">\n",
       "      <th></th>\n",
       "      <th>B</th>\n",
       "      <th>C</th>\n",
       "      <th>D</th>\n",
       "    </tr>\n",
       "    <tr>\n",
       "      <th>A</th>\n",
       "      <th></th>\n",
       "      <th></th>\n",
       "      <th></th>\n",
       "    </tr>\n",
       "  </thead>\n",
       "  <tbody>\n",
       "    <tr>\n",
       "      <th>0.203897</th>\n",
       "      <td>-0.527945</td>\n",
       "      <td>-1.053923</td>\n",
       "      <td>1.330420</td>\n",
       "    </tr>\n",
       "    <tr>\n",
       "      <th>0.475112</th>\n",
       "      <td>-0.635497</td>\n",
       "      <td>0.594416</td>\n",
       "      <td>0.395118</td>\n",
       "    </tr>\n",
       "    <tr>\n",
       "      <th>0.630971</th>\n",
       "      <td>-1.776335</td>\n",
       "      <td>-0.487059</td>\n",
       "      <td>-0.963542</td>\n",
       "    </tr>\n",
       "    <tr>\n",
       "      <th>1.076815</th>\n",
       "      <td>-0.775511</td>\n",
       "      <td>1.254177</td>\n",
       "      <td>-0.827070</td>\n",
       "    </tr>\n",
       "    <tr>\n",
       "      <th>1.221116</th>\n",
       "      <td>1.344814</td>\n",
       "      <td>0.909924</td>\n",
       "      <td>0.382799</td>\n",
       "    </tr>\n",
       "    <tr>\n",
       "      <th>1.789702</th>\n",
       "      <td>0.399927</td>\n",
       "      <td>0.690118</td>\n",
       "      <td>1.088212</td>\n",
       "    </tr>\n",
       "  </tbody>\n",
       "</table>\n",
       "</div>"
      ],
      "text/plain": [
       "                 B         C         D\n",
       "A                                     \n",
       "0.203897 -0.527945 -1.053923  1.330420\n",
       "0.475112 -0.635497  0.594416  0.395118\n",
       "0.630971 -1.776335 -0.487059 -0.963542\n",
       "1.076815 -0.775511  1.254177 -0.827070\n",
       "1.221116  1.344814  0.909924  0.382799\n",
       "1.789702  0.399927  0.690118  1.088212"
      ]
     },
     "execution_count": 94,
     "metadata": {},
     "output_type": "execute_result"
    }
   ],
   "source": [
    "#Grouping of data \n",
    "df.groupby(\"A\").sum()"
   ]
  },
  {
   "cell_type": "code",
   "execution_count": 95,
   "metadata": {},
   "outputs": [
    {
     "data": {
      "text/html": [
       "<div>\n",
       "<style scoped>\n",
       "    .dataframe tbody tr th:only-of-type {\n",
       "        vertical-align: middle;\n",
       "    }\n",
       "\n",
       "    .dataframe tbody tr th {\n",
       "        vertical-align: top;\n",
       "    }\n",
       "\n",
       "    .dataframe thead th {\n",
       "        text-align: right;\n",
       "    }\n",
       "</style>\n",
       "<table border=\"1\" class=\"dataframe\">\n",
       "  <thead>\n",
       "    <tr style=\"text-align: right;\">\n",
       "      <th></th>\n",
       "      <th></th>\n",
       "      <th>C</th>\n",
       "      <th>D</th>\n",
       "    </tr>\n",
       "    <tr>\n",
       "      <th>A</th>\n",
       "      <th>B</th>\n",
       "      <th></th>\n",
       "      <th></th>\n",
       "    </tr>\n",
       "  </thead>\n",
       "  <tbody>\n",
       "    <tr>\n",
       "      <th>0.203897</th>\n",
       "      <th>-0.527945</th>\n",
       "      <td>-1.053923</td>\n",
       "      <td>1.330420</td>\n",
       "    </tr>\n",
       "    <tr>\n",
       "      <th>0.475112</th>\n",
       "      <th>-0.635497</th>\n",
       "      <td>0.594416</td>\n",
       "      <td>0.395118</td>\n",
       "    </tr>\n",
       "    <tr>\n",
       "      <th>0.630971</th>\n",
       "      <th>-1.776335</th>\n",
       "      <td>-0.487059</td>\n",
       "      <td>-0.963542</td>\n",
       "    </tr>\n",
       "    <tr>\n",
       "      <th>1.076815</th>\n",
       "      <th>-0.775511</th>\n",
       "      <td>1.254177</td>\n",
       "      <td>-0.827070</td>\n",
       "    </tr>\n",
       "    <tr>\n",
       "      <th>1.221116</th>\n",
       "      <th>1.344814</th>\n",
       "      <td>0.909924</td>\n",
       "      <td>0.382799</td>\n",
       "    </tr>\n",
       "    <tr>\n",
       "      <th>1.789702</th>\n",
       "      <th>0.399927</th>\n",
       "      <td>0.690118</td>\n",
       "      <td>1.088212</td>\n",
       "    </tr>\n",
       "  </tbody>\n",
       "</table>\n",
       "</div>"
      ],
      "text/plain": [
       "                           C         D\n",
       "A        B                            \n",
       "0.203897 -0.527945 -1.053923  1.330420\n",
       "0.475112 -0.635497  0.594416  0.395118\n",
       "0.630971 -1.776335 -0.487059 -0.963542\n",
       "1.076815 -0.775511  1.254177 -0.827070\n",
       "1.221116  1.344814  0.909924  0.382799\n",
       "1.789702  0.399927  0.690118  1.088212"
      ]
     },
     "execution_count": 95,
     "metadata": {},
     "output_type": "execute_result"
    }
   ],
   "source": [
    "df.groupby([\"A\", \"B\"]).sum()"
   ]
  },
  {
   "cell_type": "code",
   "execution_count": null,
   "metadata": {},
   "outputs": [],
   "source": []
  }
 ],
 "metadata": {
  "kernelspec": {
   "display_name": "Python 3",
   "language": "python",
   "name": "python3"
  },
  "language_info": {
   "codemirror_mode": {
    "name": "ipython",
    "version": 3
   },
   "file_extension": ".py",
   "mimetype": "text/x-python",
   "name": "python",
   "nbconvert_exporter": "python",
   "pygments_lexer": "ipython3",
   "version": "3.7.6"
  }
 },
 "nbformat": 4,
 "nbformat_minor": 4
}
